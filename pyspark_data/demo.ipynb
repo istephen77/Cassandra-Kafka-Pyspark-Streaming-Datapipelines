{
 "cells": [
  {
   "cell_type": "code",
   "execution_count": 1,
   "metadata": {},
   "outputs": [],
   "source": [
    "from pyspark.sql import SparkSession"
   ]
  },
  {
   "cell_type": "code",
   "execution_count": 2,
   "metadata": {},
   "outputs": [
    {
     "name": "stdout",
     "output_type": "stream",
     "text": [
      ":: loading settings :: url = jar:file:/usr/local/lib/python3.8/dist-packages/pyspark/jars/ivy-2.5.0.jar!/org/apache/ivy/core/settings/ivysettings.xml\n"
     ]
    },
    {
     "name": "stderr",
     "output_type": "stream",
     "text": [
      "Ivy Default Cache set to: /root/.ivy2/cache\n",
      "The jars for the packages stored in: /root/.ivy2/jars\n",
      "org.apache.spark#spark-sql-kafka-0-10_2.12 added as a dependency\n",
      "com.datastax.spark#spark-cassandra-connector_2.12 added as a dependency\n",
      ":: resolving dependencies :: org.apache.spark#spark-submit-parent-84fbf9e0-c921-41ca-b7c3-00a32f6c0283;1.0\n",
      "\tconfs: [default]\n",
      "\tfound org.apache.spark#spark-sql-kafka-0-10_2.12;3.0.1 in central\n",
      "\tfound org.apache.spark#spark-token-provider-kafka-0-10_2.12;3.0.1 in central\n",
      "\tfound org.apache.kafka#kafka-clients;2.4.1 in central\n",
      "\tfound com.github.luben#zstd-jni;1.4.4-3 in central\n",
      "\tfound org.lz4#lz4-java;1.7.1 in central\n",
      "\tfound org.xerial.snappy#snappy-java;1.1.7.5 in central\n",
      "\tfound org.slf4j#slf4j-api;1.7.30 in central\n",
      "\tfound org.spark-project.spark#unused;1.0.0 in central\n",
      "\tfound org.apache.commons#commons-pool2;2.6.2 in central\n",
      "\tfound com.datastax.spark#spark-cassandra-connector_2.12;3.0.0 in central\n",
      "\tfound com.datastax.spark#spark-cassandra-connector-driver_2.12;3.0.0 in central\n",
      "\tfound com.datastax.oss#java-driver-core-shaded;4.7.2 in central\n",
      "\tfound com.datastax.oss#native-protocol;1.4.10 in central\n",
      "\tfound com.datastax.oss#java-driver-shaded-guava;25.1-jre-graal-sub-1 in central\n",
      "\tfound com.typesafe#config;1.3.4 in central\n",
      "\tfound io.dropwizard.metrics#metrics-core;4.0.5 in central\n",
      "\tfound org.hdrhistogram#HdrHistogram;2.1.11 in central\n",
      "\tfound org.javatuples#javatuples;1.2 in central\n",
      "\tfound org.reactivestreams#reactive-streams;1.0.2 in central\n",
      "\tfound com.github.stephenc.jcip#jcip-annotations;1.0-1 in central\n",
      "\tfound com.github.spotbugs#spotbugs-annotations;3.1.12 in central\n",
      "\tfound com.google.code.findbugs#jsr305;3.0.2 in central\n",
      "\tfound com.datastax.oss#java-driver-mapper-runtime;4.7.2 in central\n",
      "\tfound com.datastax.oss#java-driver-query-builder;4.7.2 in central\n",
      "\tfound org.apache.commons#commons-lang3;3.9 in central\n",
      "\tfound com.thoughtworks.paranamer#paranamer;2.8 in central\n",
      "\tfound org.scala-lang#scala-reflect;2.12.11 in central\n",
      "downloading https://repo1.maven.org/maven2/org/apache/spark/spark-sql-kafka-0-10_2.12/3.0.1/spark-sql-kafka-0-10_2.12-3.0.1.jar ...\n",
      "\t[SUCCESSFUL ] org.apache.spark#spark-sql-kafka-0-10_2.12;3.0.1!spark-sql-kafka-0-10_2.12.jar (999ms)\n",
      "downloading https://repo1.maven.org/maven2/com/datastax/spark/spark-cassandra-connector_2.12/3.0.0/spark-cassandra-connector_2.12-3.0.0.jar ...\n",
      "\t[SUCCESSFUL ] com.datastax.spark#spark-cassandra-connector_2.12;3.0.0!spark-cassandra-connector_2.12.jar (1806ms)\n",
      "downloading https://repo1.maven.org/maven2/org/apache/spark/spark-token-provider-kafka-0-10_2.12/3.0.1/spark-token-provider-kafka-0-10_2.12-3.0.1.jar ...\n",
      "\t[SUCCESSFUL ] org.apache.spark#spark-token-provider-kafka-0-10_2.12;3.0.1!spark-token-provider-kafka-0-10_2.12.jar (281ms)\n",
      "downloading https://repo1.maven.org/maven2/org/apache/kafka/kafka-clients/2.4.1/kafka-clients-2.4.1.jar ...\n",
      "\t[SUCCESSFUL ] org.apache.kafka#kafka-clients;2.4.1!kafka-clients.jar (3273ms)\n",
      "downloading https://repo1.maven.org/maven2/org/apache/commons/commons-pool2/2.6.2/commons-pool2-2.6.2.jar ...\n",
      "\t[SUCCESSFUL ] org.apache.commons#commons-pool2;2.6.2!commons-pool2.jar (325ms)\n",
      "downloading https://repo1.maven.org/maven2/org/spark-project/spark/unused/1.0.0/unused-1.0.0.jar ...\n",
      "\t[SUCCESSFUL ] org.spark-project.spark#unused;1.0.0!unused.jar (235ms)\n",
      "downloading https://repo1.maven.org/maven2/com/github/luben/zstd-jni/1.4.4-3/zstd-jni-1.4.4-3.jar ...\n",
      "\t[SUCCESSFUL ] com.github.luben#zstd-jni;1.4.4-3!zstd-jni.jar (3850ms)\n",
      "downloading https://repo1.maven.org/maven2/org/lz4/lz4-java/1.7.1/lz4-java-1.7.1.jar ...\n",
      "\t[SUCCESSFUL ] org.lz4#lz4-java;1.7.1!lz4-java.jar (787ms)\n",
      "downloading https://repo1.maven.org/maven2/org/xerial/snappy/snappy-java/1.1.7.5/snappy-java-1.1.7.5.jar ...\n",
      "\t[SUCCESSFUL ] org.xerial.snappy#snappy-java;1.1.7.5!snappy-java.jar(bundle) (1722ms)\n",
      "downloading https://repo1.maven.org/maven2/org/slf4j/slf4j-api/1.7.30/slf4j-api-1.7.30.jar ...\n",
      "\t[SUCCESSFUL ] org.slf4j#slf4j-api;1.7.30!slf4j-api.jar (269ms)\n",
      "downloading https://repo1.maven.org/maven2/com/datastax/spark/spark-cassandra-connector-driver_2.12/3.0.0/spark-cassandra-connector-driver_2.12-3.0.0.jar ...\n",
      "\t[SUCCESSFUL ] com.datastax.spark#spark-cassandra-connector-driver_2.12;3.0.0!spark-cassandra-connector-driver_2.12.jar (978ms)\n",
      "downloading https://repo1.maven.org/maven2/com/datastax/oss/java-driver-core-shaded/4.7.2/java-driver-core-shaded-4.7.2.jar ...\n",
      "\t[SUCCESSFUL ] com.datastax.oss#java-driver-core-shaded;4.7.2!java-driver-core-shaded.jar (3678ms)\n",
      "downloading https://repo1.maven.org/maven2/com/datastax/oss/java-driver-mapper-runtime/4.7.2/java-driver-mapper-runtime-4.7.2.jar ...\n",
      "\t[SUCCESSFUL ] com.datastax.oss#java-driver-mapper-runtime;4.7.2!java-driver-mapper-runtime.jar(bundle) (249ms)\n",
      "downloading https://repo1.maven.org/maven2/org/apache/commons/commons-lang3/3.9/commons-lang3-3.9.jar ...\n",
      "\t[SUCCESSFUL ] org.apache.commons#commons-lang3;3.9!commons-lang3.jar (386ms)\n",
      "downloading https://repo1.maven.org/maven2/com/thoughtworks/paranamer/paranamer/2.8/paranamer-2.8.jar ...\n",
      "\t[SUCCESSFUL ] com.thoughtworks.paranamer#paranamer;2.8!paranamer.jar(bundle) (282ms)\n",
      "downloading https://repo1.maven.org/maven2/org/scala-lang/scala-reflect/2.12.11/scala-reflect-2.12.11.jar ...\n",
      "\t[SUCCESSFUL ] org.scala-lang#scala-reflect;2.12.11!scala-reflect.jar (1408ms)\n",
      "downloading https://repo1.maven.org/maven2/com/datastax/oss/native-protocol/1.4.10/native-protocol-1.4.10.jar ...\n",
      "\t[SUCCESSFUL ] com.datastax.oss#native-protocol;1.4.10!native-protocol.jar(bundle) (297ms)\n",
      "downloading https://repo1.maven.org/maven2/com/datastax/oss/java-driver-shaded-guava/25.1-jre-graal-sub-1/java-driver-shaded-guava-25.1-jre-graal-sub-1.jar ...\n",
      "\t[SUCCESSFUL ] com.datastax.oss#java-driver-shaded-guava;25.1-jre-graal-sub-1!java-driver-shaded-guava.jar (968ms)\n",
      "downloading https://repo1.maven.org/maven2/com/typesafe/config/1.3.4/config-1.3.4.jar ...\n",
      "\t[SUCCESSFUL ] com.typesafe#config;1.3.4!config.jar(bundle) (289ms)\n",
      "downloading https://repo1.maven.org/maven2/io/dropwizard/metrics/metrics-core/4.0.5/metrics-core-4.0.5.jar ...\n",
      "\t[SUCCESSFUL ] io.dropwizard.metrics#metrics-core;4.0.5!metrics-core.jar(bundle) (251ms)\n",
      "downloading https://repo1.maven.org/maven2/org/hdrhistogram/HdrHistogram/2.1.11/HdrHistogram-2.1.11.jar ...\n",
      "\t[SUCCESSFUL ] org.hdrhistogram#HdrHistogram;2.1.11!HdrHistogram.jar(bundle) (267ms)\n",
      "downloading https://repo1.maven.org/maven2/org/javatuples/javatuples/1.2/javatuples-1.2.jar ...\n",
      "\t[SUCCESSFUL ] org.javatuples#javatuples;1.2!javatuples.jar (248ms)\n",
      "downloading https://repo1.maven.org/maven2/org/reactivestreams/reactive-streams/1.0.2/reactive-streams-1.0.2.jar ...\n",
      "\t[SUCCESSFUL ] org.reactivestreams#reactive-streams;1.0.2!reactive-streams.jar (232ms)\n",
      "downloading https://repo1.maven.org/maven2/com/github/stephenc/jcip/jcip-annotations/1.0-1/jcip-annotations-1.0-1.jar ...\n",
      "\t[SUCCESSFUL ] com.github.stephenc.jcip#jcip-annotations;1.0-1!jcip-annotations.jar (261ms)\n",
      "downloading https://repo1.maven.org/maven2/com/github/spotbugs/spotbugs-annotations/3.1.12/spotbugs-annotations-3.1.12.jar ...\n",
      "\t[SUCCESSFUL ] com.github.spotbugs#spotbugs-annotations;3.1.12!spotbugs-annotations.jar (238ms)\n",
      "downloading https://repo1.maven.org/maven2/com/google/code/findbugs/jsr305/3.0.2/jsr305-3.0.2.jar ...\n",
      "\t[SUCCESSFUL ] com.google.code.findbugs#jsr305;3.0.2!jsr305.jar (236ms)\n",
      "downloading https://repo1.maven.org/maven2/com/datastax/oss/java-driver-query-builder/4.7.2/java-driver-query-builder-4.7.2.jar ...\n",
      "\t[SUCCESSFUL ] com.datastax.oss#java-driver-query-builder;4.7.2!java-driver-query-builder.jar(bundle) (283ms)\n",
      ":: resolution report :: resolve 62729ms :: artifacts dl 24171ms\n",
      "\t:: modules in use:\n",
      "\tcom.datastax.oss#java-driver-core-shaded;4.7.2 from central in [default]\n",
      "\tcom.datastax.oss#java-driver-mapper-runtime;4.7.2 from central in [default]\n",
      "\tcom.datastax.oss#java-driver-query-builder;4.7.2 from central in [default]\n",
      "\tcom.datastax.oss#java-driver-shaded-guava;25.1-jre-graal-sub-1 from central in [default]\n",
      "\tcom.datastax.oss#native-protocol;1.4.10 from central in [default]\n",
      "\tcom.datastax.spark#spark-cassandra-connector-driver_2.12;3.0.0 from central in [default]\n",
      "\tcom.datastax.spark#spark-cassandra-connector_2.12;3.0.0 from central in [default]\n",
      "\tcom.github.luben#zstd-jni;1.4.4-3 from central in [default]\n",
      "\tcom.github.spotbugs#spotbugs-annotations;3.1.12 from central in [default]\n",
      "\tcom.github.stephenc.jcip#jcip-annotations;1.0-1 from central in [default]\n",
      "\tcom.google.code.findbugs#jsr305;3.0.2 from central in [default]\n",
      "\tcom.thoughtworks.paranamer#paranamer;2.8 from central in [default]\n",
      "\tcom.typesafe#config;1.3.4 from central in [default]\n",
      "\tio.dropwizard.metrics#metrics-core;4.0.5 from central in [default]\n",
      "\torg.apache.commons#commons-lang3;3.9 from central in [default]\n",
      "\torg.apache.commons#commons-pool2;2.6.2 from central in [default]\n",
      "\torg.apache.kafka#kafka-clients;2.4.1 from central in [default]\n",
      "\torg.apache.spark#spark-sql-kafka-0-10_2.12;3.0.1 from central in [default]\n",
      "\torg.apache.spark#spark-token-provider-kafka-0-10_2.12;3.0.1 from central in [default]\n",
      "\torg.hdrhistogram#HdrHistogram;2.1.11 from central in [default]\n",
      "\torg.javatuples#javatuples;1.2 from central in [default]\n",
      "\torg.lz4#lz4-java;1.7.1 from central in [default]\n",
      "\torg.reactivestreams#reactive-streams;1.0.2 from central in [default]\n",
      "\torg.scala-lang#scala-reflect;2.12.11 from central in [default]\n",
      "\torg.slf4j#slf4j-api;1.7.30 from central in [default]\n",
      "\torg.spark-project.spark#unused;1.0.0 from central in [default]\n",
      "\torg.xerial.snappy#snappy-java;1.1.7.5 from central in [default]\n",
      "\t:: evicted modules:\n",
      "\torg.slf4j#slf4j-api;1.7.26 by [org.slf4j#slf4j-api;1.7.30] in [default]\n",
      "\t---------------------------------------------------------------------\n",
      "\t|                  |            modules            ||   artifacts   |\n",
      "\t|       conf       | number| search|dwnlded|evicted|| number|dwnlded|\n",
      "\t---------------------------------------------------------------------\n",
      "\t|      default     |   28  |   27  |   27  |   1   ||   27  |   27  |\n",
      "\t---------------------------------------------------------------------\n",
      ":: retrieving :: org.apache.spark#spark-submit-parent-84fbf9e0-c921-41ca-b7c3-00a32f6c0283\n",
      "\tconfs: [default]\n",
      "\t27 artifacts copied, 0 already retrieved (28006kB/181ms)\n",
      "23/12/25 10:06:03 WARN NativeCodeLoader: Unable to load native-hadoop library for your platform... using builtin-java classes where applicable\n",
      "Using Spark's default log4j profile: org/apache/spark/log4j-defaults.properties\n",
      "Setting default log level to \"WARN\".\n",
      "To adjust logging level use sc.setLogLevel(newLevel). For SparkR, use setLogLevel(newLevel).\n"
     ]
    }
   ],
   "source": [
    "sparkSesison = (SparkSession.builder\n",
    "                 .config(\"spark.cassandra.connection.host\",\"cassandra\")\n",
    "                 .config(\"spark.cassandra.auth.username\",\"cassandra\")\n",
    "                 .config(\"spark.cassandra.auth.password\",\"cassandra\")\n",
    "                 .config(\"spark.jars.packages\",\"org.apache.spark:spark-sql-kafka-0-10_2.12:3.0.1,com.datastax.spark:spark-cassandra-connector_2.12:3.0.0\")\n",
    "                 .appName(\"demo\").getOrCreate()\n",
    "                 )\n"
   ]
  },
  {
   "cell_type": "code",
   "execution_count": 3,
   "metadata": {},
   "outputs": [],
   "source": [
    "from pyspark.sql import DataFrame"
   ]
  },
  {
   "cell_type": "code",
   "execution_count": 4,
   "metadata": {},
   "outputs": [],
   "source": [
    "def dataFrameFromCassandaDbTable(sparkSession:SparkSession,keyspace:str,table:str)->DataFrame:\n",
    "    df = (sparkSession.read\n",
    "        .format(\"org.apache.spark.sql.cassandra\")\n",
    "        .options(table=table, keyspace=keyspace)\n",
    "        .load())\n",
    "    return df"
   ]
  },
  {
   "cell_type": "code",
   "execution_count": 5,
   "metadata": {},
   "outputs": [],
   "source": [
    "df = dataFrameFromCassandaDbTable(sparkSession=sparkSesison,keyspace=\"ineuron\",table=\"employee\")"
   ]
  },
  {
   "cell_type": "code",
   "execution_count": 6,
   "metadata": {},
   "outputs": [
    {
     "name": "stderr",
     "output_type": "stream",
     "text": [
      "                                                                                \r"
     ]
    },
    {
     "name": "stdout",
     "output_type": "stream",
     "text": [
      "+------+-----------+----------+-------------+\n",
      "|emp_id|       city|  emp_name|        state|\n",
      "+------+-----------+----------+-------------+\n",
      "|    17|    Chennai|   Aravind|    Tamilnadu|\n",
      "|    15| New Mumbai|    Vishal|  Maharashtra|\n",
      "|    19|  Hyderabad|  Scarlett|Andra Pradesh|\n",
      "|     8|      Noida|    Sundar|Uttar Pradesh|\n",
      "|     1|  Bengalore|   Stephen|    Karnataka|\n",
      "|     6|       Pune|    Barton|  Maharashtra|\n",
      "|    23|     Nagpur|      Amit|  Maharashtra|\n",
      "|    29|      Noida|     Harry|Uttar Pradesh|\n",
      "|    25|     Mumbai|      Iris|  Maharashtra|\n",
      "|    16|     Nagpur|    Vikash|  Maharashtra|\n",
      "|    22| New Mumbai|    Deepak|  Maharashtra|\n",
      "|    14|      Delhi|     Sunny|        Delhi|\n",
      "|    27|       Pune|     Ankit|  Maharashtra|\n",
      "|    26|    Chennai|       Pia|    Tamilnadu|\n",
      "|     3|Global city|Es Rosario|       Manila|\n",
      "|     7|  Hyderabad|   Natasha|Andra Pradesh|\n",
      "|     9|      Delhi|  Shashank|        Delhi|\n",
      "|     5|    Chennai|     Berry|    Tamilnadu|\n",
      "|    28|  Hyderabad|     Akash|Andra Pradesh|\n",
      "|     2| Cairo city|   Kholoud|        Cairo|\n",
      "+------+-----------+----------+-------------+\n",
      "only showing top 20 rows\n",
      "\n"
     ]
    },
    {
     "name": "stderr",
     "output_type": "stream",
     "text": [
      "23/12/25 10:07:47 WARN ChannelPool: [s0|cassandra/172.19.0.3:9042]  Error while opening new channel (ConnectionInitException: [s0|connecting...] Protocol initialization request, step 1 (STARTUP {CQL_VERSION=3.0.0, DRIVER_NAME=DataStax Java driver for Apache Cassandra(R), DRIVER_VERSION=4.7.2, CLIENT_ID=709d9bfc-02a4-43a8-b160-bd9f4e32af97, APPLICATION_NAME=Spark-Cassandra-Connector-local-1703498766992}): failed to send request (java.nio.channels.ClosedChannelException))\n",
      "23/12/25 10:07:47 WARN ControlConnection: [s0] Error connecting to Node(endPoint=cassandra/172.19.0.3:9042, hostId=bba135ab-b5c4-4b50-ac70-edddcd144b4f, hashCode=7bdd63fd), trying next node (ConnectionInitException: [s0|control|connecting...] Protocol initialization request, step 1 (STARTUP {CQL_VERSION=3.0.0, DRIVER_NAME=DataStax Java driver for Apache Cassandra(R), DRIVER_VERSION=4.7.2, CLIENT_ID=709d9bfc-02a4-43a8-b160-bd9f4e32af97, APPLICATION_NAME=Spark-Cassandra-Connector-local-1703498766992}): failed to send request (java.nio.channels.ClosedChannelException))\n",
      "23/12/25 10:07:54 WARN ControlConnection: [s0] Error connecting to Node(endPoint=cassandra/172.19.0.3:9042, hostId=bba135ab-b5c4-4b50-ac70-edddcd144b4f, hashCode=7bdd63fd), trying next node (ConnectionInitException: [s0|control|connecting...] Protocol initialization request, step 1 (STARTUP {CQL_VERSION=3.0.0, DRIVER_NAME=DataStax Java driver for Apache Cassandra(R), DRIVER_VERSION=4.7.2, CLIENT_ID=709d9bfc-02a4-43a8-b160-bd9f4e32af97, APPLICATION_NAME=Spark-Cassandra-Connector-local-1703498766992}): failed to send request (java.nio.channels.NotYetConnectedException))\n",
      "23/12/25 10:07:54 WARN ChannelPool: [s0|cassandra/172.19.0.3:9042]  Error while opening new channel (ConnectionInitException: [s0|connecting...] Protocol initialization request, step 1 (STARTUP {CQL_VERSION=3.0.0, DRIVER_NAME=DataStax Java driver for Apache Cassandra(R), DRIVER_VERSION=4.7.2, CLIENT_ID=709d9bfc-02a4-43a8-b160-bd9f4e32af97, APPLICATION_NAME=Spark-Cassandra-Connector-local-1703498766992}): failed to send request (java.nio.channels.NotYetConnectedException))\n",
      "23/12/25 10:08:03 WARN ChannelPool: [s0|cassandra/172.19.0.3:9042]  Error while opening new channel (ConnectionInitException: [s0|connecting...] Protocol initialization request, step 1 (STARTUP {CQL_VERSION=3.0.0, DRIVER_NAME=DataStax Java driver for Apache Cassandra(R), DRIVER_VERSION=4.7.2, CLIENT_ID=709d9bfc-02a4-43a8-b160-bd9f4e32af97, APPLICATION_NAME=Spark-Cassandra-Connector-local-1703498766992}): failed to send request (java.nio.channels.NotYetConnectedException))\n",
      "23/12/25 10:08:03 WARN ControlConnection: [s0] Error connecting to Node(endPoint=cassandra/172.19.0.3:9042, hostId=bba135ab-b5c4-4b50-ac70-edddcd144b4f, hashCode=7bdd63fd), trying next node (ConnectionInitException: [s0|control|connecting...] Protocol initialization request, step 1 (STARTUP {CQL_VERSION=3.0.0, DRIVER_NAME=DataStax Java driver for Apache Cassandra(R), DRIVER_VERSION=4.7.2, CLIENT_ID=709d9bfc-02a4-43a8-b160-bd9f4e32af97, APPLICATION_NAME=Spark-Cassandra-Connector-local-1703498766992}): failed to send request (java.nio.channels.NotYetConnectedException))\n",
      "23/12/25 10:08:13 WARN ChannelPool: [s0|cassandra/172.19.0.3:9042]  Error while opening new channel (ConnectionInitException: [s0|connecting...] Protocol initialization request, step 1 (STARTUP {CQL_VERSION=3.0.0, DRIVER_NAME=DataStax Java driver for Apache Cassandra(R), DRIVER_VERSION=4.7.2, CLIENT_ID=709d9bfc-02a4-43a8-b160-bd9f4e32af97, APPLICATION_NAME=Spark-Cassandra-Connector-local-1703498766992}): failed to send request (java.nio.channels.ClosedChannelException))\n",
      "23/12/25 10:08:13 WARN ControlConnection: [s0] Error connecting to Node(endPoint=cassandra/172.19.0.3:9042, hostId=bba135ab-b5c4-4b50-ac70-edddcd144b4f, hashCode=7bdd63fd), trying next node (ConnectionInitException: [s0|control|connecting...] Protocol initialization request, step 1 (STARTUP {CQL_VERSION=3.0.0, DRIVER_NAME=DataStax Java driver for Apache Cassandra(R), DRIVER_VERSION=4.7.2, CLIENT_ID=709d9bfc-02a4-43a8-b160-bd9f4e32af97, APPLICATION_NAME=Spark-Cassandra-Connector-local-1703498766992}): failed to send request (java.nio.channels.ClosedChannelException))\n",
      "23/12/25 10:08:31 WARN ChannelPool: [s0|cassandra/172.19.0.3:9042]  Error while opening new channel (ConnectionInitException: [s0|connecting...] Protocol initialization request, step 1 (STARTUP {CQL_VERSION=3.0.0, DRIVER_NAME=DataStax Java driver for Apache Cassandra(R), DRIVER_VERSION=4.7.2, CLIENT_ID=709d9bfc-02a4-43a8-b160-bd9f4e32af97, APPLICATION_NAME=Spark-Cassandra-Connector-local-1703498766992}): failed to send request (java.nio.channels.ClosedChannelException))\n",
      "23/12/25 10:08:31 WARN ControlConnection: [s0] Error connecting to Node(endPoint=cassandra/172.19.0.3:9042, hostId=bba135ab-b5c4-4b50-ac70-edddcd144b4f, hashCode=7bdd63fd), trying next node (ConnectionInitException: [s0|control|connecting...] Protocol initialization request, step 1 (STARTUP {CQL_VERSION=3.0.0, DRIVER_NAME=DataStax Java driver for Apache Cassandra(R), DRIVER_VERSION=4.7.2, CLIENT_ID=709d9bfc-02a4-43a8-b160-bd9f4e32af97, APPLICATION_NAME=Spark-Cassandra-Connector-local-1703498766992}): failed to send request (java.nio.channels.ClosedChannelException))\n",
      "23/12/25 10:09:02 WARN ControlConnection: [s0] Error connecting to Node(endPoint=cassandra/172.19.0.3:9042, hostId=bba135ab-b5c4-4b50-ac70-edddcd144b4f, hashCode=7bdd63fd), trying next node (ConnectionInitException: [s0|control|connecting...] Protocol initialization request, step 1 (STARTUP {CQL_VERSION=3.0.0, DRIVER_NAME=DataStax Java driver for Apache Cassandra(R), DRIVER_VERSION=4.7.2, CLIENT_ID=709d9bfc-02a4-43a8-b160-bd9f4e32af97, APPLICATION_NAME=Spark-Cassandra-Connector-local-1703498766992}): failed to send request (java.nio.channels.ClosedChannelException))\n",
      "23/12/25 10:09:02 WARN ChannelPool: [s0|cassandra/172.19.0.3:9042]  Error while opening new channel (ConnectionInitException: [s0|connecting...] Protocol initialization request, step 1 (STARTUP {CQL_VERSION=3.0.0, DRIVER_NAME=DataStax Java driver for Apache Cassandra(R), DRIVER_VERSION=4.7.2, CLIENT_ID=709d9bfc-02a4-43a8-b160-bd9f4e32af97, APPLICATION_NAME=Spark-Cassandra-Connector-local-1703498766992}): failed to send request (java.nio.channels.ClosedChannelException))\n",
      "23/12/25 10:10:04 WARN ControlConnection: [s0] Error connecting to Node(endPoint=cassandra/172.19.0.3:9042, hostId=bba135ab-b5c4-4b50-ac70-edddcd144b4f, hashCode=7bdd63fd), trying next node (ConnectionInitException: [s0|control|connecting...] Protocol initialization request, step 1 (STARTUP {CQL_VERSION=3.0.0, DRIVER_NAME=DataStax Java driver for Apache Cassandra(R), DRIVER_VERSION=4.7.2, CLIENT_ID=709d9bfc-02a4-43a8-b160-bd9f4e32af97, APPLICATION_NAME=Spark-Cassandra-Connector-local-1703498766992}): failed to send request (java.nio.channels.ClosedChannelException))\n",
      "23/12/25 10:10:04 WARN ChannelPool: [s0|cassandra/172.19.0.3:9042]  Error while opening new channel (ConnectionInitException: [s0|connecting...] Protocol initialization request, step 1 (STARTUP {CQL_VERSION=3.0.0, DRIVER_NAME=DataStax Java driver for Apache Cassandra(R), DRIVER_VERSION=4.7.2, CLIENT_ID=709d9bfc-02a4-43a8-b160-bd9f4e32af97, APPLICATION_NAME=Spark-Cassandra-Connector-local-1703498766992}): failed to send request (java.nio.channels.ClosedChannelException))\n",
      "23/12/25 10:11:00 WARN ControlConnection: [s0] Error connecting to Node(endPoint=cassandra/172.19.0.3:9042, hostId=bba135ab-b5c4-4b50-ac70-edddcd144b4f, hashCode=7bdd63fd), trying next node (ConnectionInitException: [s0|control|connecting...] Protocol initialization request, step 1 (STARTUP {CQL_VERSION=3.0.0, DRIVER_NAME=DataStax Java driver for Apache Cassandra(R), DRIVER_VERSION=4.7.2, CLIENT_ID=709d9bfc-02a4-43a8-b160-bd9f4e32af97, APPLICATION_NAME=Spark-Cassandra-Connector-local-1703498766992}): failed to send request (java.nio.channels.ClosedChannelException))\n",
      "23/12/25 10:11:06 WARN ChannelPool: [s0|cassandra/172.19.0.3:9042]  Error while opening new channel (ConnectionInitException: [s0|connecting...] Protocol initialization request, step 1 (STARTUP {CQL_VERSION=3.0.0, DRIVER_NAME=DataStax Java driver for Apache Cassandra(R), DRIVER_VERSION=4.7.2, CLIENT_ID=709d9bfc-02a4-43a8-b160-bd9f4e32af97, APPLICATION_NAME=Spark-Cassandra-Connector-local-1703498766992}): failed to send request (java.nio.channels.ClosedChannelException))\n",
      "23/12/25 10:12:03 WARN ControlConnection: [s0] Error connecting to Node(endPoint=cassandra/172.19.0.3:9042, hostId=bba135ab-b5c4-4b50-ac70-edddcd144b4f, hashCode=7bdd63fd), trying next node (ConnectionInitException: [s0|control|connecting...] Protocol initialization request, step 1 (STARTUP {CQL_VERSION=3.0.0, DRIVER_NAME=DataStax Java driver for Apache Cassandra(R), DRIVER_VERSION=4.7.2, CLIENT_ID=709d9bfc-02a4-43a8-b160-bd9f4e32af97, APPLICATION_NAME=Spark-Cassandra-Connector-local-1703498766992}): failed to send request (java.nio.channels.ClosedChannelException))\n",
      "23/12/25 10:12:03 WARN ChannelPool: [s0|cassandra/172.19.0.3:9042]  Error while opening new channel (ConnectionInitException: [s0|connecting...] Protocol initialization request, step 1 (STARTUP {CQL_VERSION=3.0.0, DRIVER_NAME=DataStax Java driver for Apache Cassandra(R), DRIVER_VERSION=4.7.2, CLIENT_ID=709d9bfc-02a4-43a8-b160-bd9f4e32af97, APPLICATION_NAME=Spark-Cassandra-Connector-local-1703498766992}): failed to send request (java.nio.channels.ClosedChannelException))\n",
      "23/12/25 10:12:59 WARN ChannelPool: [s0|cassandra/172.19.0.3:9042]  Error while opening new channel (ConnectionInitException: [s0|connecting...] Protocol initialization request, step 1 (STARTUP {CQL_VERSION=3.0.0, DRIVER_NAME=DataStax Java driver for Apache Cassandra(R), DRIVER_VERSION=4.7.2, CLIENT_ID=709d9bfc-02a4-43a8-b160-bd9f4e32af97, APPLICATION_NAME=Spark-Cassandra-Connector-local-1703498766992}): failed to send request (java.nio.channels.ClosedChannelException))\n",
      "23/12/25 10:13:02 WARN ControlConnection: [s0] Error connecting to Node(endPoint=cassandra/172.19.0.3:9042, hostId=bba135ab-b5c4-4b50-ac70-edddcd144b4f, hashCode=7bdd63fd), trying next node (ConnectionInitException: [s0|control|connecting...] Protocol initialization request, step 1 (STARTUP {CQL_VERSION=3.0.0, DRIVER_NAME=DataStax Java driver for Apache Cassandra(R), DRIVER_VERSION=4.7.2, CLIENT_ID=709d9bfc-02a4-43a8-b160-bd9f4e32af97, APPLICATION_NAME=Spark-Cassandra-Connector-local-1703498766992}): failed to send request (java.nio.channels.ClosedChannelException))\n",
      "23/12/25 10:14:02 WARN ChannelPool: [s0|cassandra/172.19.0.3:9042]  Error while opening new channel (ConnectionInitException: [s0|connecting...] Protocol initialization request, step 1 (STARTUP {CQL_VERSION=3.0.0, DRIVER_NAME=DataStax Java driver for Apache Cassandra(R), DRIVER_VERSION=4.7.2, CLIENT_ID=709d9bfc-02a4-43a8-b160-bd9f4e32af97, APPLICATION_NAME=Spark-Cassandra-Connector-local-1703498766992}): failed to send request (java.nio.channels.ClosedChannelException))\n",
      "23/12/25 10:14:05 WARN ControlConnection: [s0] Error connecting to Node(endPoint=cassandra/172.19.0.3:9042, hostId=bba135ab-b5c4-4b50-ac70-edddcd144b4f, hashCode=7bdd63fd), trying next node (ConnectionInitException: [s0|control|connecting...] Protocol initialization request, step 1 (STARTUP {CQL_VERSION=3.0.0, DRIVER_NAME=DataStax Java driver for Apache Cassandra(R), DRIVER_VERSION=4.7.2, CLIENT_ID=709d9bfc-02a4-43a8-b160-bd9f4e32af97, APPLICATION_NAME=Spark-Cassandra-Connector-local-1703498766992}): failed to send request (java.nio.channels.ClosedChannelException))\n",
      "23/12/25 10:15:03 WARN ControlConnection: [s0] Error connecting to Node(endPoint=cassandra/172.19.0.3:9042, hostId=bba135ab-b5c4-4b50-ac70-edddcd144b4f, hashCode=7bdd63fd), trying next node (ConnectionInitException: [s0|control|connecting...] Protocol initialization request, step 1 (STARTUP {CQL_VERSION=3.0.0, DRIVER_NAME=DataStax Java driver for Apache Cassandra(R), DRIVER_VERSION=4.7.2, CLIENT_ID=709d9bfc-02a4-43a8-b160-bd9f4e32af97, APPLICATION_NAME=Spark-Cassandra-Connector-local-1703498766992}): failed to send request (java.nio.channels.ClosedChannelException))\n",
      "23/12/25 10:15:03 WARN ChannelPool: [s0|cassandra/172.19.0.3:9042]  Error while opening new channel (ConnectionInitException: [s0|connecting...] Protocol initialization request, step 1 (STARTUP {CQL_VERSION=3.0.0, DRIVER_NAME=DataStax Java driver for Apache Cassandra(R), DRIVER_VERSION=4.7.2, CLIENT_ID=709d9bfc-02a4-43a8-b160-bd9f4e32af97, APPLICATION_NAME=Spark-Cassandra-Connector-local-1703498766992}): failed to send request (java.nio.channels.ClosedChannelException))\n",
      "23/12/25 10:15:59 WARN ControlConnection: [s0] Error connecting to Node(endPoint=cassandra/172.19.0.3:9042, hostId=bba135ab-b5c4-4b50-ac70-edddcd144b4f, hashCode=7bdd63fd), trying next node (ConnectionInitException: [s0|control|connecting...] Protocol initialization request, step 1 (STARTUP {CQL_VERSION=3.0.0, DRIVER_NAME=DataStax Java driver for Apache Cassandra(R), DRIVER_VERSION=4.7.2, CLIENT_ID=709d9bfc-02a4-43a8-b160-bd9f4e32af97, APPLICATION_NAME=Spark-Cassandra-Connector-local-1703498766992}): failed to send request (java.nio.channels.ClosedChannelException))\n",
      "23/12/25 10:16:06 WARN ChannelPool: [s0|cassandra/172.19.0.3:9042]  Error while opening new channel (ConnectionInitException: [s0|connecting...] Protocol initialization request, step 1 (STARTUP {CQL_VERSION=3.0.0, DRIVER_NAME=DataStax Java driver for Apache Cassandra(R), DRIVER_VERSION=4.7.2, CLIENT_ID=709d9bfc-02a4-43a8-b160-bd9f4e32af97, APPLICATION_NAME=Spark-Cassandra-Connector-local-1703498766992}): failed to send request (java.nio.channels.ClosedChannelException))\n",
      "23/12/25 10:17:02 WARN ControlConnection: [s0] Error connecting to Node(endPoint=cassandra/172.19.0.3:9042, hostId=bba135ab-b5c4-4b50-ac70-edddcd144b4f, hashCode=7bdd63fd), trying next node (ConnectionInitException: [s0|control|connecting...] Protocol initialization request, step 1 (STARTUP {CQL_VERSION=3.0.0, DRIVER_NAME=DataStax Java driver for Apache Cassandra(R), DRIVER_VERSION=4.7.2, CLIENT_ID=709d9bfc-02a4-43a8-b160-bd9f4e32af97, APPLICATION_NAME=Spark-Cassandra-Connector-local-1703498766992}): failed to send request (java.nio.channels.ClosedChannelException))\n",
      "23/12/25 10:17:09 WARN ChannelPool: [s0|cassandra/172.19.0.3:9042]  Error while opening new channel (ConnectionInitException: [s0|connecting...] Protocol initialization request, step 1 (STARTUP {CQL_VERSION=3.0.0, DRIVER_NAME=DataStax Java driver for Apache Cassandra(R), DRIVER_VERSION=4.7.2, CLIENT_ID=709d9bfc-02a4-43a8-b160-bd9f4e32af97, APPLICATION_NAME=Spark-Cassandra-Connector-local-1703498766992}): failed to send request (java.nio.channels.ClosedChannelException))\n",
      "23/12/25 10:18:05 WARN ControlConnection: [s0] Error connecting to Node(endPoint=cassandra/172.19.0.3:9042, hostId=bba135ab-b5c4-4b50-ac70-edddcd144b4f, hashCode=7bdd63fd), trying next node (ConnectionInitException: [s0|control|connecting...] Protocol initialization request, step 1 (STARTUP {CQL_VERSION=3.0.0, DRIVER_NAME=DataStax Java driver for Apache Cassandra(R), DRIVER_VERSION=4.7.2, CLIENT_ID=709d9bfc-02a4-43a8-b160-bd9f4e32af97, APPLICATION_NAME=Spark-Cassandra-Connector-local-1703498766992}): failed to send request (java.nio.channels.ClosedChannelException))\n",
      "23/12/25 10:18:12 WARN ChannelPool: [s0|cassandra/172.19.0.3:9042]  Error while opening new channel (ConnectionInitException: [s0|connecting...] Protocol initialization request, step 1 (STARTUP {CQL_VERSION=3.0.0, DRIVER_NAME=DataStax Java driver for Apache Cassandra(R), DRIVER_VERSION=4.7.2, CLIENT_ID=709d9bfc-02a4-43a8-b160-bd9f4e32af97, APPLICATION_NAME=Spark-Cassandra-Connector-local-1703498766992}): failed to send request (java.nio.channels.ClosedChannelException))\n",
      "23/12/25 10:19:07 WARN ControlConnection: [s0] Error connecting to Node(endPoint=cassandra/172.19.0.3:9042, hostId=bba135ab-b5c4-4b50-ac70-edddcd144b4f, hashCode=7bdd63fd), trying next node (ConnectionInitException: [s0|control|connecting...] Protocol initialization request, step 1 (STARTUP {CQL_VERSION=3.0.0, DRIVER_NAME=DataStax Java driver for Apache Cassandra(R), DRIVER_VERSION=4.7.2, CLIENT_ID=709d9bfc-02a4-43a8-b160-bd9f4e32af97, APPLICATION_NAME=Spark-Cassandra-Connector-local-1703498766992}): failed to send request (java.nio.channels.ClosedChannelException))\n",
      "23/12/25 10:19:07 WARN ChannelPool: [s0|cassandra/172.19.0.3:9042]  Error while opening new channel (ConnectionInitException: [s0|connecting...] Protocol initialization request, step 1 (STARTUP {CQL_VERSION=3.0.0, DRIVER_NAME=DataStax Java driver for Apache Cassandra(R), DRIVER_VERSION=4.7.2, CLIENT_ID=709d9bfc-02a4-43a8-b160-bd9f4e32af97, APPLICATION_NAME=Spark-Cassandra-Connector-local-1703498766992}): failed to send request (java.nio.channels.ClosedChannelException))\n",
      "23/12/25 10:20:10 WARN ChannelPool: [s0|cassandra/172.19.0.3:9042]  Error while opening new channel (ConnectionInitException: [s0|connecting...] Protocol initialization request, step 1 (STARTUP {CQL_VERSION=3.0.0, DRIVER_NAME=DataStax Java driver for Apache Cassandra(R), DRIVER_VERSION=4.7.2, CLIENT_ID=709d9bfc-02a4-43a8-b160-bd9f4e32af97, APPLICATION_NAME=Spark-Cassandra-Connector-local-1703498766992}): failed to send request (java.nio.channels.ClosedChannelException))\n",
      "23/12/25 10:20:10 WARN ControlConnection: [s0] Error connecting to Node(endPoint=cassandra/172.19.0.3:9042, hostId=bba135ab-b5c4-4b50-ac70-edddcd144b4f, hashCode=7bdd63fd), trying next node (ConnectionInitException: [s0|control|connecting...] Protocol initialization request, step 1 (STARTUP {CQL_VERSION=3.0.0, DRIVER_NAME=DataStax Java driver for Apache Cassandra(R), DRIVER_VERSION=4.7.2, CLIENT_ID=709d9bfc-02a4-43a8-b160-bd9f4e32af97, APPLICATION_NAME=Spark-Cassandra-Connector-local-1703498766992}): failed to send request (java.nio.channels.ClosedChannelException))\n",
      "23/12/25 10:21:12 WARN ChannelPool: [s0|cassandra/172.19.0.3:9042]  Error while opening new channel (ConnectionInitException: [s0|connecting...] Protocol initialization request, step 1 (STARTUP {CQL_VERSION=3.0.0, DRIVER_NAME=DataStax Java driver for Apache Cassandra(R), DRIVER_VERSION=4.7.2, CLIENT_ID=709d9bfc-02a4-43a8-b160-bd9f4e32af97, APPLICATION_NAME=Spark-Cassandra-Connector-local-1703498766992}): failed to send request (java.nio.channels.ClosedChannelException))\n",
      "23/12/25 10:21:12 WARN ControlConnection: [s0] Error connecting to Node(endPoint=cassandra/172.19.0.3:9042, hostId=bba135ab-b5c4-4b50-ac70-edddcd144b4f, hashCode=7bdd63fd), trying next node (ConnectionInitException: [s0|control|connecting...] Protocol initialization request, step 1 (STARTUP {CQL_VERSION=3.0.0, DRIVER_NAME=DataStax Java driver for Apache Cassandra(R), DRIVER_VERSION=4.7.2, CLIENT_ID=709d9bfc-02a4-43a8-b160-bd9f4e32af97, APPLICATION_NAME=Spark-Cassandra-Connector-local-1703498766992}): failed to send request (java.nio.channels.ClosedChannelException))\n",
      "23/12/25 10:22:11 WARN ChannelPool: [s0|cassandra/172.19.0.3:9042]  Error while opening new channel (ConnectionInitException: [s0|connecting...] Protocol initialization request, step 1 (STARTUP {CQL_VERSION=3.0.0, DRIVER_NAME=DataStax Java driver for Apache Cassandra(R), DRIVER_VERSION=4.7.2, CLIENT_ID=709d9bfc-02a4-43a8-b160-bd9f4e32af97, APPLICATION_NAME=Spark-Cassandra-Connector-local-1703498766992}): failed to send request (java.nio.channels.ClosedChannelException))\n",
      "23/12/25 10:22:11 WARN ControlConnection: [s0] Error connecting to Node(endPoint=cassandra/172.19.0.3:9042, hostId=bba135ab-b5c4-4b50-ac70-edddcd144b4f, hashCode=7bdd63fd), trying next node (ConnectionInitException: [s0|control|connecting...] Protocol initialization request, step 1 (STARTUP {CQL_VERSION=3.0.0, DRIVER_NAME=DataStax Java driver for Apache Cassandra(R), DRIVER_VERSION=4.7.2, CLIENT_ID=709d9bfc-02a4-43a8-b160-bd9f4e32af97, APPLICATION_NAME=Spark-Cassandra-Connector-local-1703498766992}): failed to send request (java.nio.channels.ClosedChannelException))\n",
      "23/12/25 10:23:14 WARN ChannelPool: [s0|cassandra/172.19.0.3:9042]  Error while opening new channel (ConnectionInitException: [s0|connecting...] Protocol initialization request, step 1 (STARTUP {CQL_VERSION=3.0.0, DRIVER_NAME=DataStax Java driver for Apache Cassandra(R), DRIVER_VERSION=4.7.2, CLIENT_ID=709d9bfc-02a4-43a8-b160-bd9f4e32af97, APPLICATION_NAME=Spark-Cassandra-Connector-local-1703498766992}): failed to send request (java.nio.channels.ClosedChannelException))\n",
      "23/12/25 10:23:14 WARN ControlConnection: [s0] Error connecting to Node(endPoint=cassandra/172.19.0.3:9042, hostId=bba135ab-b5c4-4b50-ac70-edddcd144b4f, hashCode=7bdd63fd), trying next node (ConnectionInitException: [s0|control|connecting...] Protocol initialization request, step 1 (STARTUP {CQL_VERSION=3.0.0, DRIVER_NAME=DataStax Java driver for Apache Cassandra(R), DRIVER_VERSION=4.7.2, CLIENT_ID=709d9bfc-02a4-43a8-b160-bd9f4e32af97, APPLICATION_NAME=Spark-Cassandra-Connector-local-1703498766992}): failed to send request (java.nio.channels.ClosedChannelException))\n",
      "23/12/25 10:24:17 WARN ChannelPool: [s0|cassandra/172.19.0.3:9042]  Error while opening new channel (ConnectionInitException: [s0|connecting...] Protocol initialization request, step 1 (STARTUP {CQL_VERSION=3.0.0, DRIVER_NAME=DataStax Java driver for Apache Cassandra(R), DRIVER_VERSION=4.7.2, CLIENT_ID=709d9bfc-02a4-43a8-b160-bd9f4e32af97, APPLICATION_NAME=Spark-Cassandra-Connector-local-1703498766992}): failed to send request (java.nio.channels.ClosedChannelException))\n",
      "23/12/25 10:24:17 WARN ControlConnection: [s0] Error connecting to Node(endPoint=cassandra/172.19.0.3:9042, hostId=bba135ab-b5c4-4b50-ac70-edddcd144b4f, hashCode=7bdd63fd), trying next node (ConnectionInitException: [s0|control|connecting...] Protocol initialization request, step 1 (STARTUP {CQL_VERSION=3.0.0, DRIVER_NAME=DataStax Java driver for Apache Cassandra(R), DRIVER_VERSION=4.7.2, CLIENT_ID=709d9bfc-02a4-43a8-b160-bd9f4e32af97, APPLICATION_NAME=Spark-Cassandra-Connector-local-1703498766992}): failed to send request (java.nio.channels.ClosedChannelException))\n",
      "23/12/25 10:25:12 WARN ChannelPool: [s0|cassandra/172.19.0.3:9042]  Error while opening new channel (ConnectionInitException: [s0|connecting...] Protocol initialization request, step 1 (STARTUP {CQL_VERSION=3.0.0, DRIVER_NAME=DataStax Java driver for Apache Cassandra(R), DRIVER_VERSION=4.7.2, CLIENT_ID=709d9bfc-02a4-43a8-b160-bd9f4e32af97, APPLICATION_NAME=Spark-Cassandra-Connector-local-1703498766992}): failed to send request (java.nio.channels.ClosedChannelException))\n",
      "23/12/25 10:25:12 WARN ControlConnection: [s0] Error connecting to Node(endPoint=cassandra/172.19.0.3:9042, hostId=bba135ab-b5c4-4b50-ac70-edddcd144b4f, hashCode=7bdd63fd), trying next node (ConnectionInitException: [s0|control|connecting...] Protocol initialization request, step 1 (STARTUP {CQL_VERSION=3.0.0, DRIVER_NAME=DataStax Java driver for Apache Cassandra(R), DRIVER_VERSION=4.7.2, CLIENT_ID=709d9bfc-02a4-43a8-b160-bd9f4e32af97, APPLICATION_NAME=Spark-Cassandra-Connector-local-1703498766992}): failed to send request (java.nio.channels.ClosedChannelException))\n",
      "23/12/25 10:26:15 WARN ChannelPool: [s0|cassandra/172.19.0.3:9042]  Error while opening new channel (ConnectionInitException: [s0|connecting...] Protocol initialization request, step 1 (STARTUP {CQL_VERSION=3.0.0, DRIVER_NAME=DataStax Java driver for Apache Cassandra(R), DRIVER_VERSION=4.7.2, CLIENT_ID=709d9bfc-02a4-43a8-b160-bd9f4e32af97, APPLICATION_NAME=Spark-Cassandra-Connector-local-1703498766992}): failed to send request (java.nio.channels.ClosedChannelException))\n",
      "23/12/25 10:26:15 WARN ControlConnection: [s0] Error connecting to Node(endPoint=cassandra/172.19.0.3:9042, hostId=bba135ab-b5c4-4b50-ac70-edddcd144b4f, hashCode=7bdd63fd), trying next node (ConnectionInitException: [s0|control|connecting...] Protocol initialization request, step 1 (STARTUP {CQL_VERSION=3.0.0, DRIVER_NAME=DataStax Java driver for Apache Cassandra(R), DRIVER_VERSION=4.7.2, CLIENT_ID=709d9bfc-02a4-43a8-b160-bd9f4e32af97, APPLICATION_NAME=Spark-Cassandra-Connector-local-1703498766992}): failed to send request (java.nio.channels.ClosedChannelException))\n",
      "23/12/25 10:27:10 WARN ChannelPool: [s0|cassandra/172.19.0.3:9042]  Error while opening new channel (ConnectionInitException: [s0|connecting...] Protocol initialization request, step 1 (STARTUP {CQL_VERSION=3.0.0, DRIVER_NAME=DataStax Java driver for Apache Cassandra(R), DRIVER_VERSION=4.7.2, CLIENT_ID=709d9bfc-02a4-43a8-b160-bd9f4e32af97, APPLICATION_NAME=Spark-Cassandra-Connector-local-1703498766992}): failed to send request (java.nio.channels.ClosedChannelException))\n",
      "23/12/25 10:27:19 WARN ControlConnection: [s0] Error connecting to Node(endPoint=cassandra/172.19.0.3:9042, hostId=bba135ab-b5c4-4b50-ac70-edddcd144b4f, hashCode=7bdd63fd), trying next node (ConnectionInitException: [s0|control|connecting...] Protocol initialization request, step 1 (STARTUP {CQL_VERSION=3.0.0, DRIVER_NAME=DataStax Java driver for Apache Cassandra(R), DRIVER_VERSION=4.7.2, CLIENT_ID=709d9bfc-02a4-43a8-b160-bd9f4e32af97, APPLICATION_NAME=Spark-Cassandra-Connector-local-1703498766992}): failed to send request (java.nio.channels.ClosedChannelException))\n",
      "23/12/25 10:28:13 WARN ChannelPool: [s0|cassandra/172.19.0.3:9042]  Error while opening new channel (ConnectionInitException: [s0|connecting...] Protocol initialization request, step 1 (STARTUP {CQL_VERSION=3.0.0, DRIVER_NAME=DataStax Java driver for Apache Cassandra(R), DRIVER_VERSION=4.7.2, CLIENT_ID=709d9bfc-02a4-43a8-b160-bd9f4e32af97, APPLICATION_NAME=Spark-Cassandra-Connector-local-1703498766992}): failed to send request (java.nio.channels.ClosedChannelException))\n",
      "23/12/25 10:28:22 WARN ControlConnection: [s0] Error connecting to Node(endPoint=cassandra/172.19.0.3:9042, hostId=bba135ab-b5c4-4b50-ac70-edddcd144b4f, hashCode=7bdd63fd), trying next node (ConnectionInitException: [s0|control|connecting...] Protocol initialization request, step 1 (STARTUP {CQL_VERSION=3.0.0, DRIVER_NAME=DataStax Java driver for Apache Cassandra(R), DRIVER_VERSION=4.7.2, CLIENT_ID=709d9bfc-02a4-43a8-b160-bd9f4e32af97, APPLICATION_NAME=Spark-Cassandra-Connector-local-1703498766992}): failed to send request (java.nio.channels.ClosedChannelException))\n",
      "23/12/25 10:29:16 WARN ChannelPool: [s0|cassandra/172.19.0.3:9042]  Error while opening new channel (ConnectionInitException: [s0|connecting...] Protocol initialization request, step 1 (STARTUP {CQL_VERSION=3.0.0, DRIVER_NAME=DataStax Java driver for Apache Cassandra(R), DRIVER_VERSION=4.7.2, CLIENT_ID=709d9bfc-02a4-43a8-b160-bd9f4e32af97, APPLICATION_NAME=Spark-Cassandra-Connector-local-1703498766992}): failed to send request (java.nio.channels.ClosedChannelException))\n",
      "23/12/25 10:29:19 WARN ControlConnection: [s0] Error connecting to Node(endPoint=cassandra/172.19.0.3:9042, hostId=bba135ab-b5c4-4b50-ac70-edddcd144b4f, hashCode=7bdd63fd), trying next node (ConnectionInitException: [s0|control|connecting...] Protocol initialization request, step 1 (STARTUP {CQL_VERSION=3.0.0, DRIVER_NAME=DataStax Java driver for Apache Cassandra(R), DRIVER_VERSION=4.7.2, CLIENT_ID=709d9bfc-02a4-43a8-b160-bd9f4e32af97, APPLICATION_NAME=Spark-Cassandra-Connector-local-1703498766992}): failed to send request (java.nio.channels.ClosedChannelException))\n",
      "23/12/25 10:30:12 WARN ChannelPool: [s0|cassandra/172.19.0.3:9042]  Error while opening new channel (ConnectionInitException: [s0|connecting...] Protocol initialization request, step 1 (STARTUP {CQL_VERSION=3.0.0, DRIVER_NAME=DataStax Java driver for Apache Cassandra(R), DRIVER_VERSION=4.7.2, CLIENT_ID=709d9bfc-02a4-43a8-b160-bd9f4e32af97, APPLICATION_NAME=Spark-Cassandra-Connector-local-1703498766992}): failed to send request (java.nio.channels.ClosedChannelException))\n",
      "23/12/25 10:30:12 WARN ControlConnection: [s0] Error connecting to Node(endPoint=cassandra/172.19.0.3:9042, hostId=bba135ab-b5c4-4b50-ac70-edddcd144b4f, hashCode=7bdd63fd), trying next node (ConnectionInitException: [s0|control|connecting...] Protocol initialization request, step 1 (STARTUP {CQL_VERSION=3.0.0, DRIVER_NAME=DataStax Java driver for Apache Cassandra(R), DRIVER_VERSION=4.7.2, CLIENT_ID=709d9bfc-02a4-43a8-b160-bd9f4e32af97, APPLICATION_NAME=Spark-Cassandra-Connector-local-1703498766992}): failed to send request (java.nio.channels.ClosedChannelException))\n",
      "23/12/25 10:31:08 WARN ControlConnection: [s0] Error connecting to Node(endPoint=cassandra/172.19.0.3:9042, hostId=bba135ab-b5c4-4b50-ac70-edddcd144b4f, hashCode=7bdd63fd), trying next node (ConnectionInitException: [s0|control|connecting...] Protocol initialization request, step 1 (STARTUP {CQL_VERSION=3.0.0, DRIVER_NAME=DataStax Java driver for Apache Cassandra(R), DRIVER_VERSION=4.7.2, CLIENT_ID=709d9bfc-02a4-43a8-b160-bd9f4e32af97, APPLICATION_NAME=Spark-Cassandra-Connector-local-1703498766992}): failed to send request (java.nio.channels.ClosedChannelException))\n",
      "23/12/25 10:31:08 WARN ChannelPool: [s0|cassandra/172.19.0.3:9042]  Error while opening new channel (ConnectionInitException: [s0|connecting...] Protocol initialization request, step 1 (STARTUP {CQL_VERSION=3.0.0, DRIVER_NAME=DataStax Java driver for Apache Cassandra(R), DRIVER_VERSION=4.7.2, CLIENT_ID=709d9bfc-02a4-43a8-b160-bd9f4e32af97, APPLICATION_NAME=Spark-Cassandra-Connector-local-1703498766992}): failed to send request (java.nio.channels.ClosedChannelException))\n",
      "23/12/25 10:32:11 WARN ControlConnection: [s0] Error connecting to Node(endPoint=cassandra/172.19.0.3:9042, hostId=bba135ab-b5c4-4b50-ac70-edddcd144b4f, hashCode=7bdd63fd), trying next node (ConnectionInitException: [s0|control|connecting...] Protocol initialization request, step 1 (STARTUP {CQL_VERSION=3.0.0, DRIVER_NAME=DataStax Java driver for Apache Cassandra(R), DRIVER_VERSION=4.7.2, CLIENT_ID=709d9bfc-02a4-43a8-b160-bd9f4e32af97, APPLICATION_NAME=Spark-Cassandra-Connector-local-1703498766992}): failed to send request (java.nio.channels.ClosedChannelException))\n",
      "23/12/25 10:32:11 WARN ChannelPool: [s0|cassandra/172.19.0.3:9042]  Error while opening new channel (ConnectionInitException: [s0|connecting...] Protocol initialization request, step 1 (STARTUP {CQL_VERSION=3.0.0, DRIVER_NAME=DataStax Java driver for Apache Cassandra(R), DRIVER_VERSION=4.7.2, CLIENT_ID=709d9bfc-02a4-43a8-b160-bd9f4e32af97, APPLICATION_NAME=Spark-Cassandra-Connector-local-1703498766992}): failed to send request (java.nio.channels.ClosedChannelException))\n",
      "23/12/25 10:33:11 WARN ControlConnection: [s0] Error connecting to Node(endPoint=cassandra/172.19.0.3:9042, hostId=bba135ab-b5c4-4b50-ac70-edddcd144b4f, hashCode=7bdd63fd), trying next node (ConnectionInitException: [s0|control|connecting...] Protocol initialization request, step 1 (STARTUP {CQL_VERSION=3.0.0, DRIVER_NAME=DataStax Java driver for Apache Cassandra(R), DRIVER_VERSION=4.7.2, CLIENT_ID=709d9bfc-02a4-43a8-b160-bd9f4e32af97, APPLICATION_NAME=Spark-Cassandra-Connector-local-1703498766992}): failed to send request (java.nio.channels.ClosedChannelException))\n",
      "23/12/25 10:33:14 WARN ChannelPool: [s0|cassandra/172.19.0.3:9042]  Error while opening new channel (ConnectionInitException: [s0|connecting...] Protocol initialization request, step 1 (STARTUP {CQL_VERSION=3.0.0, DRIVER_NAME=DataStax Java driver for Apache Cassandra(R), DRIVER_VERSION=4.7.2, CLIENT_ID=709d9bfc-02a4-43a8-b160-bd9f4e32af97, APPLICATION_NAME=Spark-Cassandra-Connector-local-1703498766992}): failed to send request (java.nio.channels.ClosedChannelException))\n",
      "23/12/25 10:34:14 WARN ControlConnection: [s0] Error connecting to Node(endPoint=cassandra/172.19.0.3:9042, hostId=bba135ab-b5c4-4b50-ac70-edddcd144b4f, hashCode=7bdd63fd), trying next node (ConnectionInitException: [s0|control|connecting...] Protocol initialization request, step 1 (STARTUP {CQL_VERSION=3.0.0, DRIVER_NAME=DataStax Java driver for Apache Cassandra(R), DRIVER_VERSION=4.7.2, CLIENT_ID=709d9bfc-02a4-43a8-b160-bd9f4e32af97, APPLICATION_NAME=Spark-Cassandra-Connector-local-1703498766992}): failed to send request (java.nio.channels.ClosedChannelException))\n",
      "23/12/25 10:34:17 WARN ChannelPool: [s0|cassandra/172.19.0.3:9042]  Error while opening new channel (ConnectionInitException: [s0|connecting...] Protocol initialization request, step 1 (STARTUP {CQL_VERSION=3.0.0, DRIVER_NAME=DataStax Java driver for Apache Cassandra(R), DRIVER_VERSION=4.7.2, CLIENT_ID=709d9bfc-02a4-43a8-b160-bd9f4e32af97, APPLICATION_NAME=Spark-Cassandra-Connector-local-1703498766992}): failed to send request (java.nio.channels.ClosedChannelException))\n",
      "23/12/25 10:35:17 WARN ChannelPool: [s0|cassandra/172.19.0.3:9042]  Error while opening new channel (ConnectionInitException: [s0|connecting...] Protocol initialization request, step 1 (STARTUP {CQL_VERSION=3.0.0, DRIVER_NAME=DataStax Java driver for Apache Cassandra(R), DRIVER_VERSION=4.7.2, CLIENT_ID=709d9bfc-02a4-43a8-b160-bd9f4e32af97, APPLICATION_NAME=Spark-Cassandra-Connector-local-1703498766992}): failed to send request (java.nio.channels.ClosedChannelException))\n",
      "23/12/25 10:35:17 WARN ControlConnection: [s0] Error connecting to Node(endPoint=cassandra/172.19.0.3:9042, hostId=bba135ab-b5c4-4b50-ac70-edddcd144b4f, hashCode=7bdd63fd), trying next node (ConnectionInitException: [s0|control|connecting...] Protocol initialization request, step 1 (STARTUP {CQL_VERSION=3.0.0, DRIVER_NAME=DataStax Java driver for Apache Cassandra(R), DRIVER_VERSION=4.7.2, CLIENT_ID=709d9bfc-02a4-43a8-b160-bd9f4e32af97, APPLICATION_NAME=Spark-Cassandra-Connector-local-1703498766992}): failed to send request (java.nio.channels.ClosedChannelException))\n",
      "23/12/25 10:36:20 WARN ControlConnection: [s0] Error connecting to Node(endPoint=cassandra/172.19.0.3:9042, hostId=bba135ab-b5c4-4b50-ac70-edddcd144b4f, hashCode=7bdd63fd), trying next node (ConnectionInitException: [s0|control|connecting...] Protocol initialization request, step 1 (STARTUP {CQL_VERSION=3.0.0, DRIVER_NAME=DataStax Java driver for Apache Cassandra(R), DRIVER_VERSION=4.7.2, CLIENT_ID=709d9bfc-02a4-43a8-b160-bd9f4e32af97, APPLICATION_NAME=Spark-Cassandra-Connector-local-1703498766992}): failed to send request (java.nio.channels.ClosedChannelException))\n",
      "23/12/25 10:36:20 WARN ChannelPool: [s0|cassandra/172.19.0.3:9042]  Error while opening new channel (ConnectionInitException: [s0|connecting...] Protocol initialization request, step 1 (STARTUP {CQL_VERSION=3.0.0, DRIVER_NAME=DataStax Java driver for Apache Cassandra(R), DRIVER_VERSION=4.7.2, CLIENT_ID=709d9bfc-02a4-43a8-b160-bd9f4e32af97, APPLICATION_NAME=Spark-Cassandra-Connector-local-1703498766992}): failed to send request (java.nio.channels.ClosedChannelException))\n",
      "23/12/25 10:37:23 WARN ControlConnection: [s0] Error connecting to Node(endPoint=cassandra/172.19.0.3:9042, hostId=bba135ab-b5c4-4b50-ac70-edddcd144b4f, hashCode=7bdd63fd), trying next node (ConnectionInitException: [s0|control|connecting...] Protocol initialization request, step 1 (STARTUP {CQL_VERSION=3.0.0, DRIVER_NAME=DataStax Java driver for Apache Cassandra(R), DRIVER_VERSION=4.7.2, CLIENT_ID=709d9bfc-02a4-43a8-b160-bd9f4e32af97, APPLICATION_NAME=Spark-Cassandra-Connector-local-1703498766992}): failed to send request (java.nio.channels.ClosedChannelException))\n",
      "23/12/25 10:37:23 WARN ChannelPool: [s0|cassandra/172.19.0.3:9042]  Error while opening new channel (ConnectionInitException: [s0|connecting...] Protocol initialization request, step 1 (STARTUP {CQL_VERSION=3.0.0, DRIVER_NAME=DataStax Java driver for Apache Cassandra(R), DRIVER_VERSION=4.7.2, CLIENT_ID=709d9bfc-02a4-43a8-b160-bd9f4e32af97, APPLICATION_NAME=Spark-Cassandra-Connector-local-1703498766992}): failed to send request (java.nio.channels.ClosedChannelException))\n",
      "23/12/25 10:38:20 WARN ChannelPool: [s0|cassandra/172.19.0.3:9042]  Error while opening new channel (ConnectionInitException: [s0|connecting...] Protocol initialization request, step 1 (STARTUP {CQL_VERSION=3.0.0, DRIVER_NAME=DataStax Java driver for Apache Cassandra(R), DRIVER_VERSION=4.7.2, CLIENT_ID=709d9bfc-02a4-43a8-b160-bd9f4e32af97, APPLICATION_NAME=Spark-Cassandra-Connector-local-1703498766992}): failed to send request (java.nio.channels.ClosedChannelException))\n",
      "23/12/25 10:38:20 WARN ControlConnection: [s0] Error connecting to Node(endPoint=cassandra/172.19.0.3:9042, hostId=bba135ab-b5c4-4b50-ac70-edddcd144b4f, hashCode=7bdd63fd), trying next node (ConnectionInitException: [s0|control|connecting...] Protocol initialization request, step 1 (STARTUP {CQL_VERSION=3.0.0, DRIVER_NAME=DataStax Java driver for Apache Cassandra(R), DRIVER_VERSION=4.7.2, CLIENT_ID=709d9bfc-02a4-43a8-b160-bd9f4e32af97, APPLICATION_NAME=Spark-Cassandra-Connector-local-1703498766992}): failed to send request (java.nio.channels.ClosedChannelException))\n",
      "23/12/25 10:39:17 WARN ControlConnection: [s0] Error connecting to Node(endPoint=cassandra/172.19.0.3:9042, hostId=bba135ab-b5c4-4b50-ac70-edddcd144b4f, hashCode=7bdd63fd), trying next node (ConnectionInitException: [s0|control|connecting...] Protocol initialization request, step 1 (STARTUP {CQL_VERSION=3.0.0, DRIVER_NAME=DataStax Java driver for Apache Cassandra(R), DRIVER_VERSION=4.7.2, CLIENT_ID=709d9bfc-02a4-43a8-b160-bd9f4e32af97, APPLICATION_NAME=Spark-Cassandra-Connector-local-1703498766992}): failed to send request (java.nio.channels.ClosedChannelException))\n",
      "23/12/25 10:39:17 WARN ChannelPool: [s0|cassandra/172.19.0.3:9042]  Error while opening new channel (ConnectionInitException: [s0|connecting...] Protocol initialization request, step 1 (STARTUP {CQL_VERSION=3.0.0, DRIVER_NAME=DataStax Java driver for Apache Cassandra(R), DRIVER_VERSION=4.7.2, CLIENT_ID=709d9bfc-02a4-43a8-b160-bd9f4e32af97, APPLICATION_NAME=Spark-Cassandra-Connector-local-1703498766992}): failed to send request (java.nio.channels.ClosedChannelException))\n",
      "23/12/25 10:40:20 WARN ChannelPool: [s0|cassandra/172.19.0.3:9042]  Error while opening new channel (ConnectionInitException: [s0|connecting...] Protocol initialization request, step 1 (STARTUP {CQL_VERSION=3.0.0, DRIVER_NAME=DataStax Java driver for Apache Cassandra(R), DRIVER_VERSION=4.7.2, CLIENT_ID=709d9bfc-02a4-43a8-b160-bd9f4e32af97, APPLICATION_NAME=Spark-Cassandra-Connector-local-1703498766992}): failed to send request (java.nio.channels.ClosedChannelException))\n",
      "23/12/25 10:40:20 WARN ControlConnection: [s0] Error connecting to Node(endPoint=cassandra/172.19.0.3:9042, hostId=bba135ab-b5c4-4b50-ac70-edddcd144b4f, hashCode=7bdd63fd), trying next node (ConnectionInitException: [s0|control|connecting...] Protocol initialization request, step 1 (STARTUP {CQL_VERSION=3.0.0, DRIVER_NAME=DataStax Java driver for Apache Cassandra(R), DRIVER_VERSION=4.7.2, CLIENT_ID=709d9bfc-02a4-43a8-b160-bd9f4e32af97, APPLICATION_NAME=Spark-Cassandra-Connector-local-1703498766992}): failed to send request (java.nio.channels.ClosedChannelException))\n",
      "23/12/25 10:41:15 WARN ChannelPool: [s0|cassandra/172.19.0.3:9042]  Error while opening new channel (ConnectionInitException: [s0|connecting...] Protocol initialization request, step 1 (STARTUP {CQL_VERSION=3.0.0, DRIVER_NAME=DataStax Java driver for Apache Cassandra(R), DRIVER_VERSION=4.7.2, CLIENT_ID=709d9bfc-02a4-43a8-b160-bd9f4e32af97, APPLICATION_NAME=Spark-Cassandra-Connector-local-1703498766992}): failed to send request (java.nio.channels.ClosedChannelException))\n",
      "23/12/25 10:41:23 WARN ControlConnection: [s0] Error connecting to Node(endPoint=cassandra/172.19.0.3:9042, hostId=bba135ab-b5c4-4b50-ac70-edddcd144b4f, hashCode=7bdd63fd), trying next node (ConnectionInitException: [s0|control|connecting...] Protocol initialization request, step 1 (STARTUP {CQL_VERSION=3.0.0, DRIVER_NAME=DataStax Java driver for Apache Cassandra(R), DRIVER_VERSION=4.7.2, CLIENT_ID=709d9bfc-02a4-43a8-b160-bd9f4e32af97, APPLICATION_NAME=Spark-Cassandra-Connector-local-1703498766992}): failed to send request (java.nio.channels.ClosedChannelException))\n",
      "23/12/25 10:42:16 WARN ChannelPool: [s0|cassandra/172.19.0.3:9042]  Error while opening new channel (ConnectionInitException: [s0|connecting...] Protocol initialization request, step 1 (STARTUP {CQL_VERSION=3.0.0, DRIVER_NAME=DataStax Java driver for Apache Cassandra(R), DRIVER_VERSION=4.7.2, CLIENT_ID=709d9bfc-02a4-43a8-b160-bd9f4e32af97, APPLICATION_NAME=Spark-Cassandra-Connector-local-1703498766992}): failed to send request (java.nio.channels.ClosedChannelException))\n",
      "23/12/25 10:42:26 WARN ControlConnection: [s0] Error connecting to Node(endPoint=cassandra/172.19.0.3:9042, hostId=bba135ab-b5c4-4b50-ac70-edddcd144b4f, hashCode=7bdd63fd), trying next node (ConnectionInitException: [s0|control|connecting...] Protocol initialization request, step 1 (STARTUP {CQL_VERSION=3.0.0, DRIVER_NAME=DataStax Java driver for Apache Cassandra(R), DRIVER_VERSION=4.7.2, CLIENT_ID=709d9bfc-02a4-43a8-b160-bd9f4e32af97, APPLICATION_NAME=Spark-Cassandra-Connector-local-1703498766992}): failed to send request (java.nio.channels.ClosedChannelException))\n",
      "23/12/25 10:43:16 WARN ChannelPool: [s0|cassandra/172.19.0.3:9042]  Error while opening new channel (ConnectionInitException: [s0|connecting...] Protocol initialization request, step 1 (STARTUP {CQL_VERSION=3.0.0, DRIVER_NAME=DataStax Java driver for Apache Cassandra(R), DRIVER_VERSION=4.7.2, CLIENT_ID=709d9bfc-02a4-43a8-b160-bd9f4e32af97, APPLICATION_NAME=Spark-Cassandra-Connector-local-1703498766992}): failed to send request (java.nio.channels.ClosedChannelException))\n",
      "23/12/25 10:43:25 WARN ControlConnection: [s0] Error connecting to Node(endPoint=cassandra/172.19.0.3:9042, hostId=bba135ab-b5c4-4b50-ac70-edddcd144b4f, hashCode=7bdd63fd), trying next node (ConnectionInitException: [s0|control|connecting...] Protocol initialization request, step 1 (STARTUP {CQL_VERSION=3.0.0, DRIVER_NAME=DataStax Java driver for Apache Cassandra(R), DRIVER_VERSION=4.7.2, CLIENT_ID=709d9bfc-02a4-43a8-b160-bd9f4e32af97, APPLICATION_NAME=Spark-Cassandra-Connector-local-1703498766992}): failed to send request (java.nio.channels.ClosedChannelException))\n",
      "23/12/25 10:44:19 WARN ChannelPool: [s0|cassandra/172.19.0.3:9042]  Error while opening new channel (ConnectionInitException: [s0|connecting...] Protocol initialization request, step 1 (STARTUP {CQL_VERSION=3.0.0, DRIVER_NAME=DataStax Java driver for Apache Cassandra(R), DRIVER_VERSION=4.7.2, CLIENT_ID=709d9bfc-02a4-43a8-b160-bd9f4e32af97, APPLICATION_NAME=Spark-Cassandra-Connector-local-1703498766992}): failed to send request (java.nio.channels.ClosedChannelException))\n",
      "23/12/25 10:44:22 WARN ControlConnection: [s0] Error connecting to Node(endPoint=cassandra/172.19.0.3:9042, hostId=bba135ab-b5c4-4b50-ac70-edddcd144b4f, hashCode=7bdd63fd), trying next node (ConnectionInitException: [s0|control|connecting...] Protocol initialization request, step 1 (STARTUP {CQL_VERSION=3.0.0, DRIVER_NAME=DataStax Java driver for Apache Cassandra(R), DRIVER_VERSION=4.7.2, CLIENT_ID=709d9bfc-02a4-43a8-b160-bd9f4e32af97, APPLICATION_NAME=Spark-Cassandra-Connector-local-1703498766992}): failed to send request (java.nio.channels.ClosedChannelException))\n",
      "23/12/25 10:45:18 WARN ControlConnection: [s0] Error connecting to Node(endPoint=cassandra/172.19.0.3:9042, hostId=bba135ab-b5c4-4b50-ac70-edddcd144b4f, hashCode=7bdd63fd), trying next node (ConnectionInitException: [s0|control|connecting...] Protocol initialization request, step 1 (STARTUP {CQL_VERSION=3.0.0, DRIVER_NAME=DataStax Java driver for Apache Cassandra(R), DRIVER_VERSION=4.7.2, CLIENT_ID=709d9bfc-02a4-43a8-b160-bd9f4e32af97, APPLICATION_NAME=Spark-Cassandra-Connector-local-1703498766992}): failed to send request (java.nio.channels.ClosedChannelException))\n",
      "23/12/25 10:45:21 WARN ChannelPool: [s0|cassandra/172.19.0.3:9042]  Error while opening new channel (ConnectionInitException: [s0|connecting...] Protocol initialization request, step 1 (STARTUP {CQL_VERSION=3.0.0, DRIVER_NAME=DataStax Java driver for Apache Cassandra(R), DRIVER_VERSION=4.7.2, CLIENT_ID=709d9bfc-02a4-43a8-b160-bd9f4e32af97, APPLICATION_NAME=Spark-Cassandra-Connector-local-1703498766992}): failed to send request (java.nio.channels.ClosedChannelException))\n",
      "23/12/25 10:46:16 WARN ChannelPool: [s0|cassandra/172.19.0.3:9042]  Error while opening new channel (ConnectionInitException: [s0|connecting...] Protocol initialization request, step 1 (STARTUP {CQL_VERSION=3.0.0, DRIVER_NAME=DataStax Java driver for Apache Cassandra(R), DRIVER_VERSION=4.7.2, CLIENT_ID=709d9bfc-02a4-43a8-b160-bd9f4e32af97, APPLICATION_NAME=Spark-Cassandra-Connector-local-1703498766992}): failed to send request (java.nio.channels.ClosedChannelException))\n",
      "23/12/25 10:46:16 WARN ControlConnection: [s0] Error connecting to Node(endPoint=cassandra/172.19.0.3:9042, hostId=bba135ab-b5c4-4b50-ac70-edddcd144b4f, hashCode=7bdd63fd), trying next node (ConnectionInitException: [s0|control|connecting...] Protocol initialization request, step 1 (STARTUP {CQL_VERSION=3.0.0, DRIVER_NAME=DataStax Java driver for Apache Cassandra(R), DRIVER_VERSION=4.7.2, CLIENT_ID=709d9bfc-02a4-43a8-b160-bd9f4e32af97, APPLICATION_NAME=Spark-Cassandra-Connector-local-1703498766992}): failed to send request (java.nio.channels.ClosedChannelException))\n",
      "23/12/25 10:47:12 WARN ControlConnection: [s0] Error connecting to Node(endPoint=cassandra/172.19.0.3:9042, hostId=bba135ab-b5c4-4b50-ac70-edddcd144b4f, hashCode=7bdd63fd), trying next node (ConnectionInitException: [s0|control|connecting...] Protocol initialization request, step 1 (STARTUP {CQL_VERSION=3.0.0, DRIVER_NAME=DataStax Java driver for Apache Cassandra(R), DRIVER_VERSION=4.7.2, CLIENT_ID=709d9bfc-02a4-43a8-b160-bd9f4e32af97, APPLICATION_NAME=Spark-Cassandra-Connector-local-1703498766992}): failed to send request (java.nio.channels.ClosedChannelException))\n",
      "23/12/25 10:47:20 WARN ChannelPool: [s0|cassandra/172.19.0.3:9042]  Error while opening new channel (ConnectionInitException: [s0|connecting...] Protocol initialization request, step 1 (STARTUP {CQL_VERSION=3.0.0, DRIVER_NAME=DataStax Java driver for Apache Cassandra(R), DRIVER_VERSION=4.7.2, CLIENT_ID=709d9bfc-02a4-43a8-b160-bd9f4e32af97, APPLICATION_NAME=Spark-Cassandra-Connector-local-1703498766992}): failed to send request (java.nio.channels.ClosedChannelException))\n",
      "23/12/25 10:48:15 WARN ControlConnection: [s0] Error connecting to Node(endPoint=cassandra/172.19.0.3:9042, hostId=bba135ab-b5c4-4b50-ac70-edddcd144b4f, hashCode=7bdd63fd), trying next node (ConnectionInitException: [s0|control|connecting...] Protocol initialization request, step 1 (STARTUP {CQL_VERSION=3.0.0, DRIVER_NAME=DataStax Java driver for Apache Cassandra(R), DRIVER_VERSION=4.7.2, CLIENT_ID=709d9bfc-02a4-43a8-b160-bd9f4e32af97, APPLICATION_NAME=Spark-Cassandra-Connector-local-1703498766992}): failed to send request (java.nio.channels.ClosedChannelException))\n",
      "23/12/25 10:48:23 WARN ChannelPool: [s0|cassandra/172.19.0.3:9042]  Error while opening new channel (ConnectionInitException: [s0|connecting...] Protocol initialization request, step 1 (STARTUP {CQL_VERSION=3.0.0, DRIVER_NAME=DataStax Java driver for Apache Cassandra(R), DRIVER_VERSION=4.7.2, CLIENT_ID=709d9bfc-02a4-43a8-b160-bd9f4e32af97, APPLICATION_NAME=Spark-Cassandra-Connector-local-1703498766992}): failed to send request (java.nio.channels.ClosedChannelException))\n",
      "23/12/25 10:49:18 WARN ControlConnection: [s0] Error connecting to Node(endPoint=cassandra/172.19.0.3:9042, hostId=bba135ab-b5c4-4b50-ac70-edddcd144b4f, hashCode=7bdd63fd), trying next node (ConnectionInitException: [s0|control|connecting...] Protocol initialization request, step 1 (STARTUP {CQL_VERSION=3.0.0, DRIVER_NAME=DataStax Java driver for Apache Cassandra(R), DRIVER_VERSION=4.7.2, CLIENT_ID=709d9bfc-02a4-43a8-b160-bd9f4e32af97, APPLICATION_NAME=Spark-Cassandra-Connector-local-1703498766992}): failed to send request (java.nio.channels.ClosedChannelException))\n",
      "23/12/25 10:49:26 WARN ChannelPool: [s0|cassandra/172.19.0.3:9042]  Error while opening new channel (ConnectionInitException: [s0|connecting...] Protocol initialization request, step 1 (STARTUP {CQL_VERSION=3.0.0, DRIVER_NAME=DataStax Java driver for Apache Cassandra(R), DRIVER_VERSION=4.7.2, CLIENT_ID=709d9bfc-02a4-43a8-b160-bd9f4e32af97, APPLICATION_NAME=Spark-Cassandra-Connector-local-1703498766992}): failed to send request (java.nio.channels.ClosedChannelException))\n",
      "23/12/25 10:50:18 WARN ControlConnection: [s0] Error connecting to Node(endPoint=cassandra/172.19.0.3:9042, hostId=bba135ab-b5c4-4b50-ac70-edddcd144b4f, hashCode=7bdd63fd), trying next node (ConnectionInitException: [s0|control|connecting...] Protocol initialization request, step 1 (STARTUP {CQL_VERSION=3.0.0, DRIVER_NAME=DataStax Java driver for Apache Cassandra(R), DRIVER_VERSION=4.7.2, CLIENT_ID=709d9bfc-02a4-43a8-b160-bd9f4e32af97, APPLICATION_NAME=Spark-Cassandra-Connector-local-1703498766992}): failed to send request (java.nio.channels.ClosedChannelException))\n",
      "23/12/25 10:50:29 WARN ChannelPool: [s0|cassandra/172.19.0.3:9042]  Error while opening new channel (ConnectionInitException: [s0|connecting...] Protocol initialization request, step 1 (STARTUP {CQL_VERSION=3.0.0, DRIVER_NAME=DataStax Java driver for Apache Cassandra(R), DRIVER_VERSION=4.7.2, CLIENT_ID=709d9bfc-02a4-43a8-b160-bd9f4e32af97, APPLICATION_NAME=Spark-Cassandra-Connector-local-1703498766992}): failed to send request (java.nio.channels.ClosedChannelException))\n",
      "23/12/25 10:51:21 WARN ControlConnection: [s0] Error connecting to Node(endPoint=cassandra/172.19.0.3:9042, hostId=bba135ab-b5c4-4b50-ac70-edddcd144b4f, hashCode=7bdd63fd), trying next node (ConnectionInitException: [s0|control|connecting...] Protocol initialization request, step 1 (STARTUP {CQL_VERSION=3.0.0, DRIVER_NAME=DataStax Java driver for Apache Cassandra(R), DRIVER_VERSION=4.7.2, CLIENT_ID=709d9bfc-02a4-43a8-b160-bd9f4e32af97, APPLICATION_NAME=Spark-Cassandra-Connector-local-1703498766992}): failed to send request (java.nio.channels.ClosedChannelException))\n",
      "23/12/25 10:51:32 WARN ChannelPool: [s0|cassandra/172.19.0.3:9042]  Error while opening new channel (ConnectionInitException: [s0|connecting...] Protocol initialization request, step 1 (STARTUP {CQL_VERSION=3.0.0, DRIVER_NAME=DataStax Java driver for Apache Cassandra(R), DRIVER_VERSION=4.7.2, CLIENT_ID=709d9bfc-02a4-43a8-b160-bd9f4e32af97, APPLICATION_NAME=Spark-Cassandra-Connector-local-1703498766992}): failed to send request (java.nio.channels.ClosedChannelException))\n",
      "23/12/25 10:52:15 WARN ControlConnection: [s0] Error connecting to Node(endPoint=cassandra/172.19.0.3:9042, hostId=bba135ab-b5c4-4b50-ac70-edddcd144b4f, hashCode=7bdd63fd), trying next node (ConnectionInitException: [s0|control|connecting...] Protocol initialization request, step 1 (STARTUP {CQL_VERSION=3.0.0, DRIVER_NAME=DataStax Java driver for Apache Cassandra(R), DRIVER_VERSION=4.7.2, CLIENT_ID=709d9bfc-02a4-43a8-b160-bd9f4e32af97, APPLICATION_NAME=Spark-Cassandra-Connector-local-1703498766992}): failed to send request (java.nio.channels.ClosedChannelException))\n",
      "23/12/25 10:52:35 WARN ChannelPool: [s0|cassandra/172.19.0.3:9042]  Error while opening new channel (ConnectionInitException: [s0|connecting...] Protocol initialization request, step 1 (STARTUP {CQL_VERSION=3.0.0, DRIVER_NAME=DataStax Java driver for Apache Cassandra(R), DRIVER_VERSION=4.7.2, CLIENT_ID=709d9bfc-02a4-43a8-b160-bd9f4e32af97, APPLICATION_NAME=Spark-Cassandra-Connector-local-1703498766992}): failed to send request (java.nio.channels.ClosedChannelException))\n",
      "23/12/25 10:53:19 WARN ControlConnection: [s0] Error connecting to Node(endPoint=cassandra/172.19.0.3:9042, hostId=bba135ab-b5c4-4b50-ac70-edddcd144b4f, hashCode=7bdd63fd), trying next node (ConnectionInitException: [s0|control|connecting...] Protocol initialization request, step 1 (STARTUP {CQL_VERSION=3.0.0, DRIVER_NAME=DataStax Java driver for Apache Cassandra(R), DRIVER_VERSION=4.7.2, CLIENT_ID=709d9bfc-02a4-43a8-b160-bd9f4e32af97, APPLICATION_NAME=Spark-Cassandra-Connector-local-1703498766992}): failed to send request (java.nio.channels.ClosedChannelException))\n",
      "23/12/25 10:53:29 WARN ChannelPool: [s0|cassandra/172.19.0.3:9042]  Error while opening new channel (ConnectionInitException: [s0|connecting...] Protocol initialization request, step 1 (STARTUP {CQL_VERSION=3.0.0, DRIVER_NAME=DataStax Java driver for Apache Cassandra(R), DRIVER_VERSION=4.7.2, CLIENT_ID=709d9bfc-02a4-43a8-b160-bd9f4e32af97, APPLICATION_NAME=Spark-Cassandra-Connector-local-1703498766992}): failed to send request (java.nio.channels.ClosedChannelException))\n",
      "23/12/25 10:54:22 WARN ControlConnection: [s0] Error connecting to Node(endPoint=cassandra/172.19.0.3:9042, hostId=bba135ab-b5c4-4b50-ac70-edddcd144b4f, hashCode=7bdd63fd), trying next node (ConnectionInitException: [s0|control|connecting...] Protocol initialization request, step 1 (STARTUP {CQL_VERSION=3.0.0, DRIVER_NAME=DataStax Java driver for Apache Cassandra(R), DRIVER_VERSION=4.7.2, CLIENT_ID=709d9bfc-02a4-43a8-b160-bd9f4e32af97, APPLICATION_NAME=Spark-Cassandra-Connector-local-1703498766992}): failed to send request (java.nio.channels.ClosedChannelException))\n",
      "23/12/25 10:54:31 WARN ChannelPool: [s0|cassandra/172.19.0.3:9042]  Error while opening new channel (ConnectionInitException: [s0|connecting...] Protocol initialization request, step 1 (STARTUP {CQL_VERSION=3.0.0, DRIVER_NAME=DataStax Java driver for Apache Cassandra(R), DRIVER_VERSION=4.7.2, CLIENT_ID=709d9bfc-02a4-43a8-b160-bd9f4e32af97, APPLICATION_NAME=Spark-Cassandra-Connector-local-1703498766992}): failed to send request (java.nio.channels.ClosedChannelException))\n",
      "23/12/25 10:55:19 WARN ControlConnection: [s0] Error connecting to Node(endPoint=cassandra/172.19.0.3:9042, hostId=bba135ab-b5c4-4b50-ac70-edddcd144b4f, hashCode=7bdd63fd), trying next node (ConnectionInitException: [s0|control|connecting...] Protocol initialization request, step 1 (STARTUP {CQL_VERSION=3.0.0, DRIVER_NAME=DataStax Java driver for Apache Cassandra(R), DRIVER_VERSION=4.7.2, CLIENT_ID=709d9bfc-02a4-43a8-b160-bd9f4e32af97, APPLICATION_NAME=Spark-Cassandra-Connector-local-1703498766992}): failed to send request (java.nio.channels.ClosedChannelException))\n",
      "23/12/25 10:55:33 WARN ChannelPool: [s0|cassandra/172.19.0.3:9042]  Error while opening new channel (ConnectionInitException: [s0|connecting...] Protocol initialization request, step 1 (STARTUP {CQL_VERSION=3.0.0, DRIVER_NAME=DataStax Java driver for Apache Cassandra(R), DRIVER_VERSION=4.7.2, CLIENT_ID=709d9bfc-02a4-43a8-b160-bd9f4e32af97, APPLICATION_NAME=Spark-Cassandra-Connector-local-1703498766992}): failed to send request (java.nio.channels.ClosedChannelException))\n",
      "23/12/25 10:56:18 WARN ControlConnection: [s0] Error connecting to Node(endPoint=cassandra/172.19.0.3:9042, hostId=bba135ab-b5c4-4b50-ac70-edddcd144b4f, hashCode=7bdd63fd), trying next node (ConnectionInitException: [s0|control|connecting...] Protocol initialization request, step 1 (STARTUP {CQL_VERSION=3.0.0, DRIVER_NAME=DataStax Java driver for Apache Cassandra(R), DRIVER_VERSION=4.7.2, CLIENT_ID=709d9bfc-02a4-43a8-b160-bd9f4e32af97, APPLICATION_NAME=Spark-Cassandra-Connector-local-1703498766992}): failed to send request (java.nio.channels.ClosedChannelException))\n",
      "23/12/25 10:56:36 WARN ChannelPool: [s0|cassandra/172.19.0.3:9042]  Error while opening new channel (ConnectionInitException: [s0|connecting...] Protocol initialization request, step 1 (STARTUP {CQL_VERSION=3.0.0, DRIVER_NAME=DataStax Java driver for Apache Cassandra(R), DRIVER_VERSION=4.7.2, CLIENT_ID=709d9bfc-02a4-43a8-b160-bd9f4e32af97, APPLICATION_NAME=Spark-Cassandra-Connector-local-1703498766992}): failed to send request (java.nio.channels.ClosedChannelException))\n",
      "23/12/25 10:57:21 WARN ControlConnection: [s0] Error connecting to Node(endPoint=cassandra/172.19.0.3:9042, hostId=bba135ab-b5c4-4b50-ac70-edddcd144b4f, hashCode=7bdd63fd), trying next node (ConnectionInitException: [s0|control|connecting...] Protocol initialization request, step 1 (STARTUP {CQL_VERSION=3.0.0, DRIVER_NAME=DataStax Java driver for Apache Cassandra(R), DRIVER_VERSION=4.7.2, CLIENT_ID=709d9bfc-02a4-43a8-b160-bd9f4e32af97, APPLICATION_NAME=Spark-Cassandra-Connector-local-1703498766992}): failed to send request (java.nio.channels.ClosedChannelException))\n",
      "23/12/25 10:57:34 WARN ChannelPool: [s0|cassandra/172.19.0.3:9042]  Error while opening new channel (ConnectionInitException: [s0|connecting...] Protocol initialization request, step 1 (STARTUP {CQL_VERSION=3.0.0, DRIVER_NAME=DataStax Java driver for Apache Cassandra(R), DRIVER_VERSION=4.7.2, CLIENT_ID=709d9bfc-02a4-43a8-b160-bd9f4e32af97, APPLICATION_NAME=Spark-Cassandra-Connector-local-1703498766992}): failed to send request (java.nio.channels.ClosedChannelException))\n",
      "23/12/25 10:58:24 WARN ControlConnection: [s0] Error connecting to Node(endPoint=cassandra/172.19.0.3:9042, hostId=bba135ab-b5c4-4b50-ac70-edddcd144b4f, hashCode=7bdd63fd), trying next node (ConnectionInitException: [s0|control|connecting...] Protocol initialization request, step 1 (STARTUP {CQL_VERSION=3.0.0, DRIVER_NAME=DataStax Java driver for Apache Cassandra(R), DRIVER_VERSION=4.7.2, CLIENT_ID=709d9bfc-02a4-43a8-b160-bd9f4e32af97, APPLICATION_NAME=Spark-Cassandra-Connector-local-1703498766992}): failed to send request (java.nio.channels.ClosedChannelException))\n",
      "23/12/25 10:58:37 WARN ChannelPool: [s0|cassandra/172.19.0.3:9042]  Error while opening new channel (ConnectionInitException: [s0|connecting...] Protocol initialization request, step 1 (STARTUP {CQL_VERSION=3.0.0, DRIVER_NAME=DataStax Java driver for Apache Cassandra(R), DRIVER_VERSION=4.7.2, CLIENT_ID=709d9bfc-02a4-43a8-b160-bd9f4e32af97, APPLICATION_NAME=Spark-Cassandra-Connector-local-1703498766992}): failed to send request (java.nio.channels.ClosedChannelException))\n",
      "23/12/25 10:59:27 WARN ControlConnection: [s0] Error connecting to Node(endPoint=cassandra/172.19.0.3:9042, hostId=bba135ab-b5c4-4b50-ac70-edddcd144b4f, hashCode=7bdd63fd), trying next node (ConnectionInitException: [s0|control|connecting...] Protocol initialization request, step 1 (STARTUP {CQL_VERSION=3.0.0, DRIVER_NAME=DataStax Java driver for Apache Cassandra(R), DRIVER_VERSION=4.7.2, CLIENT_ID=709d9bfc-02a4-43a8-b160-bd9f4e32af97, APPLICATION_NAME=Spark-Cassandra-Connector-local-1703498766992}): failed to send request (java.nio.channels.ClosedChannelException))\n",
      "23/12/25 10:59:40 WARN ChannelPool: [s0|cassandra/172.19.0.3:9042]  Error while opening new channel (ConnectionInitException: [s0|connecting...] Protocol initialization request, step 1 (STARTUP {CQL_VERSION=3.0.0, DRIVER_NAME=DataStax Java driver for Apache Cassandra(R), DRIVER_VERSION=4.7.2, CLIENT_ID=709d9bfc-02a4-43a8-b160-bd9f4e32af97, APPLICATION_NAME=Spark-Cassandra-Connector-local-1703498766992}): failed to send request (java.nio.channels.ClosedChannelException))\n",
      "23/12/25 11:00:30 WARN ControlConnection: [s0] Error connecting to Node(endPoint=cassandra/172.19.0.3:9042, hostId=bba135ab-b5c4-4b50-ac70-edddcd144b4f, hashCode=7bdd63fd), trying next node (ConnectionInitException: [s0|control|connecting...] Protocol initialization request, step 1 (STARTUP {CQL_VERSION=3.0.0, DRIVER_NAME=DataStax Java driver for Apache Cassandra(R), DRIVER_VERSION=4.7.2, CLIENT_ID=709d9bfc-02a4-43a8-b160-bd9f4e32af97, APPLICATION_NAME=Spark-Cassandra-Connector-local-1703498766992}): failed to send request (java.nio.channels.ClosedChannelException))\n",
      "23/12/25 11:00:43 WARN ChannelPool: [s0|cassandra/172.19.0.3:9042]  Error while opening new channel (ConnectionInitException: [s0|connecting...] Protocol initialization request, step 1 (STARTUP {CQL_VERSION=3.0.0, DRIVER_NAME=DataStax Java driver for Apache Cassandra(R), DRIVER_VERSION=4.7.2, CLIENT_ID=709d9bfc-02a4-43a8-b160-bd9f4e32af97, APPLICATION_NAME=Spark-Cassandra-Connector-local-1703498766992}): failed to send request (java.nio.channels.ClosedChannelException))\n",
      "23/12/25 11:01:33 WARN ControlConnection: [s0] Error connecting to Node(endPoint=cassandra/172.19.0.3:9042, hostId=bba135ab-b5c4-4b50-ac70-edddcd144b4f, hashCode=7bdd63fd), trying next node (ConnectionInitException: [s0|control|connecting...] Protocol initialization request, step 1 (STARTUP {CQL_VERSION=3.0.0, DRIVER_NAME=DataStax Java driver for Apache Cassandra(R), DRIVER_VERSION=4.7.2, CLIENT_ID=709d9bfc-02a4-43a8-b160-bd9f4e32af97, APPLICATION_NAME=Spark-Cassandra-Connector-local-1703498766992}): failed to send request (java.nio.channels.ClosedChannelException))\n",
      "23/12/25 11:01:47 WARN ChannelPool: [s0|cassandra/172.19.0.3:9042]  Error while opening new channel (ConnectionInitException: [s0|connecting...] Protocol initialization request, step 1 (STARTUP {CQL_VERSION=3.0.0, DRIVER_NAME=DataStax Java driver for Apache Cassandra(R), DRIVER_VERSION=4.7.2, CLIENT_ID=709d9bfc-02a4-43a8-b160-bd9f4e32af97, APPLICATION_NAME=Spark-Cassandra-Connector-local-1703498766992}): failed to send request (java.nio.channels.ClosedChannelException))\n",
      "23/12/25 11:02:37 WARN ControlConnection: [s0] Error connecting to Node(endPoint=cassandra/172.19.0.3:9042, hostId=bba135ab-b5c4-4b50-ac70-edddcd144b4f, hashCode=7bdd63fd), trying next node (ConnectionInitException: [s0|control|connecting...] Protocol initialization request, step 1 (STARTUP {CQL_VERSION=3.0.0, DRIVER_NAME=DataStax Java driver for Apache Cassandra(R), DRIVER_VERSION=4.7.2, CLIENT_ID=709d9bfc-02a4-43a8-b160-bd9f4e32af97, APPLICATION_NAME=Spark-Cassandra-Connector-local-1703498766992}): failed to send request (java.nio.channels.ClosedChannelException))\n",
      "23/12/25 11:02:50 WARN ChannelPool: [s0|cassandra/172.19.0.3:9042]  Error while opening new channel (ConnectionInitException: [s0|connecting...] Protocol initialization request, step 1 (STARTUP {CQL_VERSION=3.0.0, DRIVER_NAME=DataStax Java driver for Apache Cassandra(R), DRIVER_VERSION=4.7.2, CLIENT_ID=709d9bfc-02a4-43a8-b160-bd9f4e32af97, APPLICATION_NAME=Spark-Cassandra-Connector-local-1703498766992}): failed to send request (java.nio.channels.ClosedChannelException))\n",
      "23/12/25 11:03:40 WARN ControlConnection: [s0] Error connecting to Node(endPoint=cassandra/172.19.0.3:9042, hostId=bba135ab-b5c4-4b50-ac70-edddcd144b4f, hashCode=7bdd63fd), trying next node (ConnectionInitException: [s0|control|connecting...] Protocol initialization request, step 1 (STARTUP {CQL_VERSION=3.0.0, DRIVER_NAME=DataStax Java driver for Apache Cassandra(R), DRIVER_VERSION=4.7.2, CLIENT_ID=709d9bfc-02a4-43a8-b160-bd9f4e32af97, APPLICATION_NAME=Spark-Cassandra-Connector-local-1703498766992}): failed to send request (java.nio.channels.ClosedChannelException))\n",
      "23/12/25 11:03:53 WARN ChannelPool: [s0|cassandra/172.19.0.3:9042]  Error while opening new channel (ConnectionInitException: [s0|connecting...] Protocol initialization request, step 1 (STARTUP {CQL_VERSION=3.0.0, DRIVER_NAME=DataStax Java driver for Apache Cassandra(R), DRIVER_VERSION=4.7.2, CLIENT_ID=709d9bfc-02a4-43a8-b160-bd9f4e32af97, APPLICATION_NAME=Spark-Cassandra-Connector-local-1703498766992}): failed to send request (java.nio.channels.ClosedChannelException))\n",
      "23/12/25 11:04:43 WARN ControlConnection: [s0] Error connecting to Node(endPoint=cassandra/172.19.0.3:9042, hostId=bba135ab-b5c4-4b50-ac70-edddcd144b4f, hashCode=7bdd63fd), trying next node (ConnectionInitException: [s0|control|connecting...] Protocol initialization request, step 1 (STARTUP {CQL_VERSION=3.0.0, DRIVER_NAME=DataStax Java driver for Apache Cassandra(R), DRIVER_VERSION=4.7.2, CLIENT_ID=709d9bfc-02a4-43a8-b160-bd9f4e32af97, APPLICATION_NAME=Spark-Cassandra-Connector-local-1703498766992}): failed to send request (java.nio.channels.ClosedChannelException))\n",
      "23/12/25 11:04:56 WARN ChannelPool: [s0|cassandra/172.19.0.3:9042]  Error while opening new channel (ConnectionInitException: [s0|connecting...] Protocol initialization request, step 1 (STARTUP {CQL_VERSION=3.0.0, DRIVER_NAME=DataStax Java driver for Apache Cassandra(R), DRIVER_VERSION=4.7.2, CLIENT_ID=709d9bfc-02a4-43a8-b160-bd9f4e32af97, APPLICATION_NAME=Spark-Cassandra-Connector-local-1703498766992}): failed to send request (java.nio.channels.ClosedChannelException))\n",
      "23/12/25 11:05:46 WARN ControlConnection: [s0] Error connecting to Node(endPoint=cassandra/172.19.0.3:9042, hostId=bba135ab-b5c4-4b50-ac70-edddcd144b4f, hashCode=7bdd63fd), trying next node (ConnectionInitException: [s0|control|connecting...] Protocol initialization request, step 1 (STARTUP {CQL_VERSION=3.0.0, DRIVER_NAME=DataStax Java driver for Apache Cassandra(R), DRIVER_VERSION=4.7.2, CLIENT_ID=709d9bfc-02a4-43a8-b160-bd9f4e32af97, APPLICATION_NAME=Spark-Cassandra-Connector-local-1703498766992}): failed to send request (java.nio.channels.ClosedChannelException))\n",
      "23/12/25 11:05:59 WARN ChannelPool: [s0|cassandra/172.19.0.3:9042]  Error while opening new channel (ConnectionInitException: [s0|connecting...] Protocol initialization request, step 1 (STARTUP {CQL_VERSION=3.0.0, DRIVER_NAME=DataStax Java driver for Apache Cassandra(R), DRIVER_VERSION=4.7.2, CLIENT_ID=709d9bfc-02a4-43a8-b160-bd9f4e32af97, APPLICATION_NAME=Spark-Cassandra-Connector-local-1703498766992}): failed to send request (java.nio.channels.ClosedChannelException))\n",
      "23/12/25 11:06:49 WARN ControlConnection: [s0] Error connecting to Node(endPoint=cassandra/172.19.0.3:9042, hostId=bba135ab-b5c4-4b50-ac70-edddcd144b4f, hashCode=7bdd63fd), trying next node (ConnectionInitException: [s0|control|connecting...] Protocol initialization request, step 1 (STARTUP {CQL_VERSION=3.0.0, DRIVER_NAME=DataStax Java driver for Apache Cassandra(R), DRIVER_VERSION=4.7.2, CLIENT_ID=709d9bfc-02a4-43a8-b160-bd9f4e32af97, APPLICATION_NAME=Spark-Cassandra-Connector-local-1703498766992}): failed to send request (java.nio.channels.ClosedChannelException))\n",
      "23/12/25 11:07:02 WARN ChannelPool: [s0|cassandra/172.19.0.3:9042]  Error while opening new channel (ConnectionInitException: [s0|connecting...] Protocol initialization request, step 1 (STARTUP {CQL_VERSION=3.0.0, DRIVER_NAME=DataStax Java driver for Apache Cassandra(R), DRIVER_VERSION=4.7.2, CLIENT_ID=709d9bfc-02a4-43a8-b160-bd9f4e32af97, APPLICATION_NAME=Spark-Cassandra-Connector-local-1703498766992}): failed to send request (java.nio.channels.ClosedChannelException))\n",
      "23/12/25 11:07:52 WARN ControlConnection: [s0] Error connecting to Node(endPoint=cassandra/172.19.0.3:9042, hostId=bba135ab-b5c4-4b50-ac70-edddcd144b4f, hashCode=7bdd63fd), trying next node (ConnectionInitException: [s0|control|connecting...] Protocol initialization request, step 1 (STARTUP {CQL_VERSION=3.0.0, DRIVER_NAME=DataStax Java driver for Apache Cassandra(R), DRIVER_VERSION=4.7.2, CLIENT_ID=709d9bfc-02a4-43a8-b160-bd9f4e32af97, APPLICATION_NAME=Spark-Cassandra-Connector-local-1703498766992}): failed to send request (java.nio.channels.ClosedChannelException))\n",
      "23/12/25 11:08:05 WARN ChannelPool: [s0|cassandra/172.19.0.3:9042]  Error while opening new channel (ConnectionInitException: [s0|connecting...] Protocol initialization request, step 1 (STARTUP {CQL_VERSION=3.0.0, DRIVER_NAME=DataStax Java driver for Apache Cassandra(R), DRIVER_VERSION=4.7.2, CLIENT_ID=709d9bfc-02a4-43a8-b160-bd9f4e32af97, APPLICATION_NAME=Spark-Cassandra-Connector-local-1703498766992}): failed to send request (java.nio.channels.ClosedChannelException))\n",
      "23/12/25 11:08:55 WARN ControlConnection: [s0] Error connecting to Node(endPoint=cassandra/172.19.0.3:9042, hostId=bba135ab-b5c4-4b50-ac70-edddcd144b4f, hashCode=7bdd63fd), trying next node (ConnectionInitException: [s0|control|connecting...] Protocol initialization request, step 1 (STARTUP {CQL_VERSION=3.0.0, DRIVER_NAME=DataStax Java driver for Apache Cassandra(R), DRIVER_VERSION=4.7.2, CLIENT_ID=709d9bfc-02a4-43a8-b160-bd9f4e32af97, APPLICATION_NAME=Spark-Cassandra-Connector-local-1703498766992}): failed to send request (java.nio.channels.ClosedChannelException))\n",
      "23/12/25 11:09:08 WARN ChannelPool: [s0|cassandra/172.19.0.3:9042]  Error while opening new channel (ConnectionInitException: [s0|connecting...] Protocol initialization request, step 1 (STARTUP {CQL_VERSION=3.0.0, DRIVER_NAME=DataStax Java driver for Apache Cassandra(R), DRIVER_VERSION=4.7.2, CLIENT_ID=709d9bfc-02a4-43a8-b160-bd9f4e32af97, APPLICATION_NAME=Spark-Cassandra-Connector-local-1703498766992}): failed to send request (java.nio.channels.ClosedChannelException))\n",
      "23/12/25 11:09:58 WARN ControlConnection: [s0] Error connecting to Node(endPoint=cassandra/172.19.0.3:9042, hostId=bba135ab-b5c4-4b50-ac70-edddcd144b4f, hashCode=7bdd63fd), trying next node (ConnectionInitException: [s0|control|connecting...] Protocol initialization request, step 1 (STARTUP {CQL_VERSION=3.0.0, DRIVER_NAME=DataStax Java driver for Apache Cassandra(R), DRIVER_VERSION=4.7.2, CLIENT_ID=709d9bfc-02a4-43a8-b160-bd9f4e32af97, APPLICATION_NAME=Spark-Cassandra-Connector-local-1703498766992}): failed to send request (java.nio.channels.ClosedChannelException))\n",
      "23/12/25 11:10:12 WARN ChannelPool: [s0|cassandra/172.19.0.3:9042]  Error while opening new channel (ConnectionInitException: [s0|connecting...] Protocol initialization request, step 1 (STARTUP {CQL_VERSION=3.0.0, DRIVER_NAME=DataStax Java driver for Apache Cassandra(R), DRIVER_VERSION=4.7.2, CLIENT_ID=709d9bfc-02a4-43a8-b160-bd9f4e32af97, APPLICATION_NAME=Spark-Cassandra-Connector-local-1703498766992}): failed to send request (java.nio.channels.ClosedChannelException))\n",
      "23/12/25 11:11:02 WARN ControlConnection: [s0] Error connecting to Node(endPoint=cassandra/172.19.0.3:9042, hostId=bba135ab-b5c4-4b50-ac70-edddcd144b4f, hashCode=7bdd63fd), trying next node (ConnectionInitException: [s0|control|connecting...] Protocol initialization request, step 1 (STARTUP {CQL_VERSION=3.0.0, DRIVER_NAME=DataStax Java driver for Apache Cassandra(R), DRIVER_VERSION=4.7.2, CLIENT_ID=709d9bfc-02a4-43a8-b160-bd9f4e32af97, APPLICATION_NAME=Spark-Cassandra-Connector-local-1703498766992}): failed to send request (java.nio.channels.ClosedChannelException))\n",
      "23/12/25 11:11:15 WARN ChannelPool: [s0|cassandra/172.19.0.3:9042]  Error while opening new channel (ConnectionInitException: [s0|connecting...] Protocol initialization request, step 1 (STARTUP {CQL_VERSION=3.0.0, DRIVER_NAME=DataStax Java driver for Apache Cassandra(R), DRIVER_VERSION=4.7.2, CLIENT_ID=709d9bfc-02a4-43a8-b160-bd9f4e32af97, APPLICATION_NAME=Spark-Cassandra-Connector-local-1703498766992}): failed to send request (java.nio.channels.ClosedChannelException))\n",
      "23/12/25 11:12:05 WARN ControlConnection: [s0] Error connecting to Node(endPoint=cassandra/172.19.0.3:9042, hostId=bba135ab-b5c4-4b50-ac70-edddcd144b4f, hashCode=7bdd63fd), trying next node (ConnectionInitException: [s0|control|connecting...] Protocol initialization request, step 1 (STARTUP {CQL_VERSION=3.0.0, DRIVER_NAME=DataStax Java driver for Apache Cassandra(R), DRIVER_VERSION=4.7.2, CLIENT_ID=709d9bfc-02a4-43a8-b160-bd9f4e32af97, APPLICATION_NAME=Spark-Cassandra-Connector-local-1703498766992}): failed to send request (java.nio.channels.ClosedChannelException))\n",
      "23/12/25 11:12:18 WARN ChannelPool: [s0|cassandra/172.19.0.3:9042]  Error while opening new channel (ConnectionInitException: [s0|connecting...] Protocol initialization request, step 1 (STARTUP {CQL_VERSION=3.0.0, DRIVER_NAME=DataStax Java driver for Apache Cassandra(R), DRIVER_VERSION=4.7.2, CLIENT_ID=709d9bfc-02a4-43a8-b160-bd9f4e32af97, APPLICATION_NAME=Spark-Cassandra-Connector-local-1703498766992}): failed to send request (java.nio.channels.ClosedChannelException))\n",
      "23/12/25 11:13:08 WARN ControlConnection: [s0] Error connecting to Node(endPoint=cassandra/172.19.0.3:9042, hostId=bba135ab-b5c4-4b50-ac70-edddcd144b4f, hashCode=7bdd63fd), trying next node (ConnectionInitException: [s0|control|connecting...] Protocol initialization request, step 1 (STARTUP {CQL_VERSION=3.0.0, DRIVER_NAME=DataStax Java driver for Apache Cassandra(R), DRIVER_VERSION=4.7.2, CLIENT_ID=709d9bfc-02a4-43a8-b160-bd9f4e32af97, APPLICATION_NAME=Spark-Cassandra-Connector-local-1703498766992}): failed to send request (java.nio.channels.ClosedChannelException))\n",
      "23/12/25 11:13:21 WARN ChannelPool: [s0|cassandra/172.19.0.3:9042]  Error while opening new channel (ConnectionInitException: [s0|connecting...] Protocol initialization request, step 1 (STARTUP {CQL_VERSION=3.0.0, DRIVER_NAME=DataStax Java driver for Apache Cassandra(R), DRIVER_VERSION=4.7.2, CLIENT_ID=709d9bfc-02a4-43a8-b160-bd9f4e32af97, APPLICATION_NAME=Spark-Cassandra-Connector-local-1703498766992}): failed to send request (java.nio.channels.ClosedChannelException))\n",
      "23/12/25 11:14:11 WARN ControlConnection: [s0] Error connecting to Node(endPoint=cassandra/172.19.0.3:9042, hostId=bba135ab-b5c4-4b50-ac70-edddcd144b4f, hashCode=7bdd63fd), trying next node (ConnectionInitException: [s0|control|connecting...] Protocol initialization request, step 1 (STARTUP {CQL_VERSION=3.0.0, DRIVER_NAME=DataStax Java driver for Apache Cassandra(R), DRIVER_VERSION=4.7.2, CLIENT_ID=709d9bfc-02a4-43a8-b160-bd9f4e32af97, APPLICATION_NAME=Spark-Cassandra-Connector-local-1703498766992}): failed to send request (java.nio.channels.ClosedChannelException))\n",
      "23/12/25 11:14:24 WARN ChannelPool: [s0|cassandra/172.19.0.3:9042]  Error while opening new channel (ConnectionInitException: [s0|connecting...] Protocol initialization request, step 1 (STARTUP {CQL_VERSION=3.0.0, DRIVER_NAME=DataStax Java driver for Apache Cassandra(R), DRIVER_VERSION=4.7.2, CLIENT_ID=709d9bfc-02a4-43a8-b160-bd9f4e32af97, APPLICATION_NAME=Spark-Cassandra-Connector-local-1703498766992}): failed to send request (java.nio.channels.ClosedChannelException))\n",
      "23/12/25 11:15:14 WARN ControlConnection: [s0] Error connecting to Node(endPoint=cassandra/172.19.0.3:9042, hostId=bba135ab-b5c4-4b50-ac70-edddcd144b4f, hashCode=7bdd63fd), trying next node (ConnectionInitException: [s0|control|connecting...] Protocol initialization request, step 1 (STARTUP {CQL_VERSION=3.0.0, DRIVER_NAME=DataStax Java driver for Apache Cassandra(R), DRIVER_VERSION=4.7.2, CLIENT_ID=709d9bfc-02a4-43a8-b160-bd9f4e32af97, APPLICATION_NAME=Spark-Cassandra-Connector-local-1703498766992}): failed to send request (java.nio.channels.ClosedChannelException))\n",
      "23/12/25 11:15:27 WARN ChannelPool: [s0|cassandra/172.19.0.3:9042]  Error while opening new channel (ConnectionInitException: [s0|connecting...] Protocol initialization request, step 1 (STARTUP {CQL_VERSION=3.0.0, DRIVER_NAME=DataStax Java driver for Apache Cassandra(R), DRIVER_VERSION=4.7.2, CLIENT_ID=709d9bfc-02a4-43a8-b160-bd9f4e32af97, APPLICATION_NAME=Spark-Cassandra-Connector-local-1703498766992}): failed to send request (java.nio.channels.ClosedChannelException))\n",
      "23/12/25 11:16:17 WARN ControlConnection: [s0] Error connecting to Node(endPoint=cassandra/172.19.0.3:9042, hostId=bba135ab-b5c4-4b50-ac70-edddcd144b4f, hashCode=7bdd63fd), trying next node (ConnectionInitException: [s0|control|connecting...] Protocol initialization request, step 1 (STARTUP {CQL_VERSION=3.0.0, DRIVER_NAME=DataStax Java driver for Apache Cassandra(R), DRIVER_VERSION=4.7.2, CLIENT_ID=709d9bfc-02a4-43a8-b160-bd9f4e32af97, APPLICATION_NAME=Spark-Cassandra-Connector-local-1703498766992}): failed to send request (java.nio.channels.ClosedChannelException))\n",
      "23/12/25 11:16:30 WARN ChannelPool: [s0|cassandra/172.19.0.3:9042]  Error while opening new channel (ConnectionInitException: [s0|connecting...] Protocol initialization request, step 1 (STARTUP {CQL_VERSION=3.0.0, DRIVER_NAME=DataStax Java driver for Apache Cassandra(R), DRIVER_VERSION=4.7.2, CLIENT_ID=709d9bfc-02a4-43a8-b160-bd9f4e32af97, APPLICATION_NAME=Spark-Cassandra-Connector-local-1703498766992}): failed to send request (java.nio.channels.ClosedChannelException))\n",
      "23/12/25 11:17:20 WARN ControlConnection: [s0] Error connecting to Node(endPoint=cassandra/172.19.0.3:9042, hostId=bba135ab-b5c4-4b50-ac70-edddcd144b4f, hashCode=7bdd63fd), trying next node (ConnectionInitException: [s0|control|connecting...] Protocol initialization request, step 1 (STARTUP {CQL_VERSION=3.0.0, DRIVER_NAME=DataStax Java driver for Apache Cassandra(R), DRIVER_VERSION=4.7.2, CLIENT_ID=709d9bfc-02a4-43a8-b160-bd9f4e32af97, APPLICATION_NAME=Spark-Cassandra-Connector-local-1703498766992}): failed to send request (java.nio.channels.ClosedChannelException))\n",
      "23/12/25 11:17:33 WARN ChannelPool: [s0|cassandra/172.19.0.3:9042]  Error while opening new channel (ConnectionInitException: [s0|connecting...] Protocol initialization request, step 1 (STARTUP {CQL_VERSION=3.0.0, DRIVER_NAME=DataStax Java driver for Apache Cassandra(R), DRIVER_VERSION=4.7.2, CLIENT_ID=709d9bfc-02a4-43a8-b160-bd9f4e32af97, APPLICATION_NAME=Spark-Cassandra-Connector-local-1703498766992}): failed to send request (java.nio.channels.ClosedChannelException))\n",
      "23/12/25 11:18:23 WARN ControlConnection: [s0] Error connecting to Node(endPoint=cassandra/172.19.0.3:9042, hostId=bba135ab-b5c4-4b50-ac70-edddcd144b4f, hashCode=7bdd63fd), trying next node (ConnectionInitException: [s0|control|connecting...] Protocol initialization request, step 1 (STARTUP {CQL_VERSION=3.0.0, DRIVER_NAME=DataStax Java driver for Apache Cassandra(R), DRIVER_VERSION=4.7.2, CLIENT_ID=709d9bfc-02a4-43a8-b160-bd9f4e32af97, APPLICATION_NAME=Spark-Cassandra-Connector-local-1703498766992}): failed to send request (java.nio.channels.ClosedChannelException))\n",
      "23/12/25 11:18:36 WARN ChannelPool: [s0|cassandra/172.19.0.3:9042]  Error while opening new channel (ConnectionInitException: [s0|connecting...] Protocol initialization request, step 1 (STARTUP {CQL_VERSION=3.0.0, DRIVER_NAME=DataStax Java driver for Apache Cassandra(R), DRIVER_VERSION=4.7.2, CLIENT_ID=709d9bfc-02a4-43a8-b160-bd9f4e32af97, APPLICATION_NAME=Spark-Cassandra-Connector-local-1703498766992}): failed to send request (java.nio.channels.ClosedChannelException))\n",
      "23/12/25 11:19:27 WARN ControlConnection: [s0] Error connecting to Node(endPoint=cassandra/172.19.0.3:9042, hostId=bba135ab-b5c4-4b50-ac70-edddcd144b4f, hashCode=7bdd63fd), trying next node (ConnectionInitException: [s0|control|connecting...] Protocol initialization request, step 1 (STARTUP {CQL_VERSION=3.0.0, DRIVER_NAME=DataStax Java driver for Apache Cassandra(R), DRIVER_VERSION=4.7.2, CLIENT_ID=709d9bfc-02a4-43a8-b160-bd9f4e32af97, APPLICATION_NAME=Spark-Cassandra-Connector-local-1703498766992}): failed to send request (java.nio.channels.ClosedChannelException))\n",
      "23/12/25 11:19:40 WARN ChannelPool: [s0|cassandra/172.19.0.3:9042]  Error while opening new channel (ConnectionInitException: [s0|connecting...] Protocol initialization request, step 1 (STARTUP {CQL_VERSION=3.0.0, DRIVER_NAME=DataStax Java driver for Apache Cassandra(R), DRIVER_VERSION=4.7.2, CLIENT_ID=709d9bfc-02a4-43a8-b160-bd9f4e32af97, APPLICATION_NAME=Spark-Cassandra-Connector-local-1703498766992}): failed to send request (java.nio.channels.ClosedChannelException))\n",
      "23/12/25 11:20:30 WARN ControlConnection: [s0] Error connecting to Node(endPoint=cassandra/172.19.0.3:9042, hostId=bba135ab-b5c4-4b50-ac70-edddcd144b4f, hashCode=7bdd63fd), trying next node (ConnectionInitException: [s0|control|connecting...] Protocol initialization request, step 1 (STARTUP {CQL_VERSION=3.0.0, DRIVER_NAME=DataStax Java driver for Apache Cassandra(R), DRIVER_VERSION=4.7.2, CLIENT_ID=709d9bfc-02a4-43a8-b160-bd9f4e32af97, APPLICATION_NAME=Spark-Cassandra-Connector-local-1703498766992}): failed to send request (java.nio.channels.ClosedChannelException))\n",
      "23/12/25 11:20:43 WARN ChannelPool: [s0|cassandra/172.19.0.3:9042]  Error while opening new channel (ConnectionInitException: [s0|connecting...] Protocol initialization request, step 1 (STARTUP {CQL_VERSION=3.0.0, DRIVER_NAME=DataStax Java driver for Apache Cassandra(R), DRIVER_VERSION=4.7.2, CLIENT_ID=709d9bfc-02a4-43a8-b160-bd9f4e32af97, APPLICATION_NAME=Spark-Cassandra-Connector-local-1703498766992}): failed to send request (java.nio.channels.ClosedChannelException))\n",
      "23/12/25 11:21:33 WARN ControlConnection: [s0] Error connecting to Node(endPoint=cassandra/172.19.0.3:9042, hostId=bba135ab-b5c4-4b50-ac70-edddcd144b4f, hashCode=7bdd63fd), trying next node (ConnectionInitException: [s0|control|connecting...] Protocol initialization request, step 1 (STARTUP {CQL_VERSION=3.0.0, DRIVER_NAME=DataStax Java driver for Apache Cassandra(R), DRIVER_VERSION=4.7.2, CLIENT_ID=709d9bfc-02a4-43a8-b160-bd9f4e32af97, APPLICATION_NAME=Spark-Cassandra-Connector-local-1703498766992}): failed to send request (java.nio.channels.ClosedChannelException))\n",
      "23/12/25 11:21:46 WARN ChannelPool: [s0|cassandra/172.19.0.3:9042]  Error while opening new channel (ConnectionInitException: [s0|connecting...] Protocol initialization request, step 1 (STARTUP {CQL_VERSION=3.0.0, DRIVER_NAME=DataStax Java driver for Apache Cassandra(R), DRIVER_VERSION=4.7.2, CLIENT_ID=709d9bfc-02a4-43a8-b160-bd9f4e32af97, APPLICATION_NAME=Spark-Cassandra-Connector-local-1703498766992}): failed to send request (java.nio.channels.ClosedChannelException))\n",
      "23/12/25 11:22:36 WARN ControlConnection: [s0] Error connecting to Node(endPoint=cassandra/172.19.0.3:9042, hostId=bba135ab-b5c4-4b50-ac70-edddcd144b4f, hashCode=7bdd63fd), trying next node (ConnectionInitException: [s0|control|connecting...] Protocol initialization request, step 1 (STARTUP {CQL_VERSION=3.0.0, DRIVER_NAME=DataStax Java driver for Apache Cassandra(R), DRIVER_VERSION=4.7.2, CLIENT_ID=709d9bfc-02a4-43a8-b160-bd9f4e32af97, APPLICATION_NAME=Spark-Cassandra-Connector-local-1703498766992}): failed to send request (java.nio.channels.ClosedChannelException))\n",
      "23/12/25 11:22:49 WARN ChannelPool: [s0|cassandra/172.19.0.3:9042]  Error while opening new channel (ConnectionInitException: [s0|connecting...] Protocol initialization request, step 1 (STARTUP {CQL_VERSION=3.0.0, DRIVER_NAME=DataStax Java driver for Apache Cassandra(R), DRIVER_VERSION=4.7.2, CLIENT_ID=709d9bfc-02a4-43a8-b160-bd9f4e32af97, APPLICATION_NAME=Spark-Cassandra-Connector-local-1703498766992}): failed to send request (java.nio.channels.ClosedChannelException))\n",
      "23/12/25 11:23:39 WARN ControlConnection: [s0] Error connecting to Node(endPoint=cassandra/172.19.0.3:9042, hostId=bba135ab-b5c4-4b50-ac70-edddcd144b4f, hashCode=7bdd63fd), trying next node (ConnectionInitException: [s0|control|connecting...] Protocol initialization request, step 1 (STARTUP {CQL_VERSION=3.0.0, DRIVER_NAME=DataStax Java driver for Apache Cassandra(R), DRIVER_VERSION=4.7.2, CLIENT_ID=709d9bfc-02a4-43a8-b160-bd9f4e32af97, APPLICATION_NAME=Spark-Cassandra-Connector-local-1703498766992}): failed to send request (java.nio.channels.ClosedChannelException))\n",
      "23/12/25 11:23:52 WARN ChannelPool: [s0|cassandra/172.19.0.3:9042]  Error while opening new channel (ConnectionInitException: [s0|connecting...] Protocol initialization request, step 1 (STARTUP {CQL_VERSION=3.0.0, DRIVER_NAME=DataStax Java driver for Apache Cassandra(R), DRIVER_VERSION=4.7.2, CLIENT_ID=709d9bfc-02a4-43a8-b160-bd9f4e32af97, APPLICATION_NAME=Spark-Cassandra-Connector-local-1703498766992}): failed to send request (java.nio.channels.ClosedChannelException))\n",
      "23/12/25 11:24:42 WARN ControlConnection: [s0] Error connecting to Node(endPoint=cassandra/172.19.0.3:9042, hostId=bba135ab-b5c4-4b50-ac70-edddcd144b4f, hashCode=7bdd63fd), trying next node (ConnectionInitException: [s0|control|connecting...] Protocol initialization request, step 1 (STARTUP {CQL_VERSION=3.0.0, DRIVER_NAME=DataStax Java driver for Apache Cassandra(R), DRIVER_VERSION=4.7.2, CLIENT_ID=709d9bfc-02a4-43a8-b160-bd9f4e32af97, APPLICATION_NAME=Spark-Cassandra-Connector-local-1703498766992}): failed to send request (java.nio.channels.ClosedChannelException))\n",
      "23/12/25 11:24:55 WARN ChannelPool: [s0|cassandra/172.19.0.3:9042]  Error while opening new channel (ConnectionInitException: [s0|connecting...] Protocol initialization request, step 1 (STARTUP {CQL_VERSION=3.0.0, DRIVER_NAME=DataStax Java driver for Apache Cassandra(R), DRIVER_VERSION=4.7.2, CLIENT_ID=709d9bfc-02a4-43a8-b160-bd9f4e32af97, APPLICATION_NAME=Spark-Cassandra-Connector-local-1703498766992}): failed to send request (java.nio.channels.ClosedChannelException))\n",
      "23/12/25 11:25:45 WARN ControlConnection: [s0] Error connecting to Node(endPoint=cassandra/172.19.0.3:9042, hostId=bba135ab-b5c4-4b50-ac70-edddcd144b4f, hashCode=7bdd63fd), trying next node (ConnectionInitException: [s0|control|connecting...] Protocol initialization request, step 1 (STARTUP {CQL_VERSION=3.0.0, DRIVER_NAME=DataStax Java driver for Apache Cassandra(R), DRIVER_VERSION=4.7.2, CLIENT_ID=709d9bfc-02a4-43a8-b160-bd9f4e32af97, APPLICATION_NAME=Spark-Cassandra-Connector-local-1703498766992}): failed to send request (java.nio.channels.ClosedChannelException))\n",
      "23/12/25 11:25:58 WARN ChannelPool: [s0|cassandra/172.19.0.3:9042]  Error while opening new channel (ConnectionInitException: [s0|connecting...] Protocol initialization request, step 1 (STARTUP {CQL_VERSION=3.0.0, DRIVER_NAME=DataStax Java driver for Apache Cassandra(R), DRIVER_VERSION=4.7.2, CLIENT_ID=709d9bfc-02a4-43a8-b160-bd9f4e32af97, APPLICATION_NAME=Spark-Cassandra-Connector-local-1703498766992}): failed to send request (java.nio.channels.ClosedChannelException))\n",
      "23/12/25 11:26:48 WARN ControlConnection: [s0] Error connecting to Node(endPoint=cassandra/172.19.0.3:9042, hostId=bba135ab-b5c4-4b50-ac70-edddcd144b4f, hashCode=7bdd63fd), trying next node (ConnectionInitException: [s0|control|connecting...] Protocol initialization request, step 1 (STARTUP {CQL_VERSION=3.0.0, DRIVER_NAME=DataStax Java driver for Apache Cassandra(R), DRIVER_VERSION=4.7.2, CLIENT_ID=709d9bfc-02a4-43a8-b160-bd9f4e32af97, APPLICATION_NAME=Spark-Cassandra-Connector-local-1703498766992}): failed to send request (java.nio.channels.ClosedChannelException))\n",
      "23/12/25 11:27:01 WARN ChannelPool: [s0|cassandra/172.19.0.3:9042]  Error while opening new channel (ConnectionInitException: [s0|connecting...] Protocol initialization request, step 1 (STARTUP {CQL_VERSION=3.0.0, DRIVER_NAME=DataStax Java driver for Apache Cassandra(R), DRIVER_VERSION=4.7.2, CLIENT_ID=709d9bfc-02a4-43a8-b160-bd9f4e32af97, APPLICATION_NAME=Spark-Cassandra-Connector-local-1703498766992}): failed to send request (java.nio.channels.ClosedChannelException))\n",
      "23/12/25 11:27:51 WARN ControlConnection: [s0] Error connecting to Node(endPoint=cassandra/172.19.0.3:9042, hostId=bba135ab-b5c4-4b50-ac70-edddcd144b4f, hashCode=7bdd63fd), trying next node (ConnectionInitException: [s0|control|connecting...] Protocol initialization request, step 1 (STARTUP {CQL_VERSION=3.0.0, DRIVER_NAME=DataStax Java driver for Apache Cassandra(R), DRIVER_VERSION=4.7.2, CLIENT_ID=709d9bfc-02a4-43a8-b160-bd9f4e32af97, APPLICATION_NAME=Spark-Cassandra-Connector-local-1703498766992}): failed to send request (java.nio.channels.ClosedChannelException))\n",
      "23/12/25 11:28:05 WARN ChannelPool: [s0|cassandra/172.19.0.3:9042]  Error while opening new channel (ConnectionInitException: [s0|connecting...] Protocol initialization request, step 1 (STARTUP {CQL_VERSION=3.0.0, DRIVER_NAME=DataStax Java driver for Apache Cassandra(R), DRIVER_VERSION=4.7.2, CLIENT_ID=709d9bfc-02a4-43a8-b160-bd9f4e32af97, APPLICATION_NAME=Spark-Cassandra-Connector-local-1703498766992}): failed to send request (java.nio.channels.ClosedChannelException))\n",
      "23/12/25 11:28:55 WARN ControlConnection: [s0] Error connecting to Node(endPoint=cassandra/172.19.0.3:9042, hostId=bba135ab-b5c4-4b50-ac70-edddcd144b4f, hashCode=7bdd63fd), trying next node (ConnectionInitException: [s0|control|connecting...] Protocol initialization request, step 1 (STARTUP {CQL_VERSION=3.0.0, DRIVER_NAME=DataStax Java driver for Apache Cassandra(R), DRIVER_VERSION=4.7.2, CLIENT_ID=709d9bfc-02a4-43a8-b160-bd9f4e32af97, APPLICATION_NAME=Spark-Cassandra-Connector-local-1703498766992}): failed to send request (java.nio.channels.ClosedChannelException))\n",
      "23/12/25 11:29:08 WARN ChannelPool: [s0|cassandra/172.19.0.3:9042]  Error while opening new channel (ConnectionInitException: [s0|connecting...] Protocol initialization request, step 1 (STARTUP {CQL_VERSION=3.0.0, DRIVER_NAME=DataStax Java driver for Apache Cassandra(R), DRIVER_VERSION=4.7.2, CLIENT_ID=709d9bfc-02a4-43a8-b160-bd9f4e32af97, APPLICATION_NAME=Spark-Cassandra-Connector-local-1703498766992}): failed to send request (java.nio.channels.ClosedChannelException))\n",
      "23/12/25 11:29:58 WARN ControlConnection: [s0] Error connecting to Node(endPoint=cassandra/172.19.0.3:9042, hostId=bba135ab-b5c4-4b50-ac70-edddcd144b4f, hashCode=7bdd63fd), trying next node (ConnectionInitException: [s0|control|connecting...] Protocol initialization request, step 1 (STARTUP {CQL_VERSION=3.0.0, DRIVER_NAME=DataStax Java driver for Apache Cassandra(R), DRIVER_VERSION=4.7.2, CLIENT_ID=709d9bfc-02a4-43a8-b160-bd9f4e32af97, APPLICATION_NAME=Spark-Cassandra-Connector-local-1703498766992}): failed to send request (java.nio.channels.ClosedChannelException))\n",
      "23/12/25 11:30:11 WARN ChannelPool: [s0|cassandra/172.19.0.3:9042]  Error while opening new channel (ConnectionInitException: [s0|connecting...] Protocol initialization request, step 1 (STARTUP {CQL_VERSION=3.0.0, DRIVER_NAME=DataStax Java driver for Apache Cassandra(R), DRIVER_VERSION=4.7.2, CLIENT_ID=709d9bfc-02a4-43a8-b160-bd9f4e32af97, APPLICATION_NAME=Spark-Cassandra-Connector-local-1703498766992}): failed to send request (java.nio.channels.ClosedChannelException))\n"
     ]
    }
   ],
   "source": [
    "df.show()"
   ]
  },
  {
   "cell_type": "code",
   "execution_count": 7,
   "metadata": {},
   "outputs": [
    {
     "data": {
      "text/plain": [
       "30"
      ]
     },
     "execution_count": 7,
     "metadata": {},
     "output_type": "execute_result"
    }
   ],
   "source": [
    "df.count()"
   ]
  },
  {
   "cell_type": "code",
   "execution_count": 10,
   "metadata": {},
   "outputs": [
    {
     "name": "stdout",
     "output_type": "stream",
     "text": [
      "+-------------+----------+-----+\n",
      "|        state|      city|count|\n",
      "+-------------+----------+-----+\n",
      "|Uttar Pradesh|     Noida|    4|\n",
      "|  Maharashtra|New Mumbai|    4|\n",
      "|    Tamilnadu|   Chennai|    3|\n",
      "|  Maharashtra|    Mumbai|    2|\n",
      "|  Maharashtra|      Pune|    3|\n",
      "|Andra Pradesh| Hyderabad|    5|\n",
      "|        Delhi|     Delhi|    4|\n",
      "|  Maharashtra|    Nagpur|    3|\n",
      "|    Karnataka| Bengalore|    2|\n",
      "+-------------+----------+-----+\n",
      "\n"
     ]
    }
   ],
   "source": [
    "df.groupBy(['state','city']).count().show()"
   ]
  },
  {
   "cell_type": "code",
   "execution_count": 11,
   "metadata": {},
   "outputs": [],
   "source": [
    "df.createOrReplaceTempView(\"emp\")"
   ]
  },
  {
   "cell_type": "code",
   "execution_count": 13,
   "metadata": {},
   "outputs": [
    {
     "name": "stdout",
     "output_type": "stream",
     "text": [
      "+------+----------+---------+-------------+\n",
      "|emp_id|      city| emp_name|        state|\n",
      "+------+----------+---------+-------------+\n",
      "|    20|     Noida|   Robert|Uttar Pradesh|\n",
      "|    26|   Chennai|      Pia|    Tamilnadu|\n",
      "|    21|     Delhi|   Shivam|        Delhi|\n",
      "|     6|      Pune|   Barton|  Maharashtra|\n",
      "|    13|     Noida|    Rahul|Uttar Pradesh|\n",
      "|    14|     Delhi|    Sunny|        Delhi|\n",
      "|    28| Hyderabad|    Akash|Andra Pradesh|\n",
      "|    25|    Mumbai|     Iris|  Maharashtra|\n",
      "|    15|New Mumbai|   Vishal|  Maharashtra|\n",
      "|     1| Bengalore|   Avnish|    Karnataka|\n",
      "|     7| Hyderabad|  Natasha|Andra Pradesh|\n",
      "|    30|     Delhi|     Emma|        Delhi|\n",
      "|     2| Bengalore|   Avnish|    Karnataka|\n",
      "|    11|    Nagpur|    Krish|  Maharashtra|\n",
      "|     8|     Noida|   Sundar|Uttar Pradesh|\n",
      "|    17|   Chennai|  Aravind|    Tamilnadu|\n",
      "|    10|New Mumbai|Sudhanshu|  Maharashtra|\n",
      "|    23|    Nagpur|     Amit|  Maharashtra|\n",
      "|    29|     Noida|    Harry|Uttar Pradesh|\n",
      "|    22|New Mumbai|   Deepak|  Maharashtra|\n",
      "+------+----------+---------+-------------+\n",
      "only showing top 20 rows\n",
      "\n"
     ]
    }
   ],
   "source": [
    "sparkSesison.sql(\"select * from emp\").show()"
   ]
  },
  {
   "cell_type": "code",
   "execution_count": 18,
   "metadata": {},
   "outputs": [
    {
     "name": "stdout",
     "output_type": "stream",
     "text": [
      "+------+---------+--------+-------------+\n",
      "|emp_id|     city|emp_name|        state|\n",
      "+------+---------+--------+-------------+\n",
      "|    19|Hyderabad|Scarlett|Andra Pradesh|\n",
      "+------+---------+--------+-------------+\n",
      "\n"
     ]
    }
   ],
   "source": [
    "sparkSesison.sql(\"select * from emp where emp_name like 'S%t'\").show()"
   ]
  },
  {
   "cell_type": "code",
   "execution_count": 20,
   "metadata": {},
   "outputs": [
    {
     "name": "stdout",
     "output_type": "stream",
     "text": [
      "+------+----------+---------+-------------+\n",
      "|emp_id|      city| emp_name|        state|\n",
      "+------+----------+---------+-------------+\n",
      "|     7| Hyderabad|  Natasha|Andra Pradesh|\n",
      "|     8|     Noida|   Sundar|Uttar Pradesh|\n",
      "|     5|   Chennai|    Berry|    Tamilnadu|\n",
      "|    30|     Delhi|     Emma|        Delhi|\n",
      "|     2| Bengalore|   Avnish|    Karnataka|\n",
      "|    11|    Nagpur|    Krish|  Maharashtra|\n",
      "|    22|New Mumbai|   Deepak|  Maharashtra|\n",
      "|    23|    Nagpur|     Amit|  Maharashtra|\n",
      "|    28| Hyderabad|    Akash|Andra Pradesh|\n",
      "|     6|      Pune|   Barton|  Maharashtra|\n",
      "|    13|     Noida|    Rahul|Uttar Pradesh|\n",
      "|    26|   Chennai|      Pia|    Tamilnadu|\n",
      "|    21|     Delhi|   Shivam|        Delhi|\n",
      "|    31|New Mumbai| Abhishek|  Maharashtra|\n",
      "|    29|     Noida|    Harry|Uttar Pradesh|\n",
      "|     1| Bengalore|   Avnish|    Karnataka|\n",
      "|    17|   Chennai|  Aravind|    Tamilnadu|\n",
      "|    10|New Mumbai|Sudhanshu|  Maharashtra|\n",
      "|    14|     Delhi|    Sunny|        Delhi|\n",
      "|     9|     Delhi| Shashank|        Delhi|\n",
      "+------+----------+---------+-------------+\n",
      "only showing top 20 rows\n",
      "\n"
     ]
    }
   ],
   "source": [
    "df.show()"
   ]
  },
  {
   "cell_type": "code",
   "execution_count": 21,
   "metadata": {},
   "outputs": [],
   "source": [
    "from pyspark.sql.functions import *"
   ]
  },
  {
   "cell_type": "code",
   "execution_count": 22,
   "metadata": {},
   "outputs": [],
   "source": [
    "from pyspark.sql.types import *"
   ]
  },
  {
   "cell_type": "code",
   "execution_count": 74,
   "metadata": {},
   "outputs": [],
   "source": [
    "df  = df.select(col(\"emp_id\").cast(StringType()).alias(\"key\"),to_json(struct(\"emp_id\",\"emp_name\",\"city\",\"state\")).alias(\"value\"))"
   ]
  },
  {
   "cell_type": "code",
   "execution_count": 39,
   "metadata": {},
   "outputs": [
    {
     "name": "stdout",
     "output_type": "stream",
     "text": [
      "root\n",
      " |-- key: string (nullable = false)\n",
      " |-- to_json(struct(emp_id, emp_name, city, state)): string (nullable = true)\n",
      "\n"
     ]
    }
   ],
   "source": [
    "df.printSchema()"
   ]
  },
  {
   "cell_type": "code",
   "execution_count": 40,
   "metadata": {},
   "outputs": [],
   "source": [
    "#kafka server detail\n",
    "KAFKA_BOOTSTRAP_SERVER=\"kafka:9092\"\n",
    "KAFKA_TOPIC = \"employee\""
   ]
  },
  {
   "cell_type": "code",
   "execution_count": 72,
   "metadata": {},
   "outputs": [],
   "source": [
    "df = (sparkSesison\n",
    "    .readStream\n",
    "    .format(\"kafka\")\n",
    "    .option(\"kafka.bootstrap.servers\",KAFKA_BOOTSTRAP_SERVER)\n",
    "    .option(\"subscribe\",KAFKA_TOPIC)\n",
    "    .option(\"startingOffsets\",\"earliest\")\n",
    "    .load()\n",
    "    )"
   ]
  },
  {
   "cell_type": "code",
   "execution_count": 42,
   "metadata": {},
   "outputs": [
    {
     "name": "stdout",
     "output_type": "stream",
     "text": [
      "root\n",
      " |-- key: binary (nullable = true)\n",
      " |-- value: binary (nullable = true)\n",
      " |-- topic: string (nullable = true)\n",
      " |-- partition: integer (nullable = true)\n",
      " |-- offset: long (nullable = true)\n",
      " |-- timestamp: timestamp (nullable = true)\n",
      " |-- timestampType: integer (nullable = true)\n",
      "\n"
     ]
    }
   ],
   "source": [
    "df.printSchema()"
   ]
  },
  {
   "cell_type": "code",
   "execution_count": 73,
   "metadata": {},
   "outputs": [],
   "source": [
    "df = sparkSesison.read.parquet(\"/project/employee_data\")"
   ]
  },
  {
   "cell_type": "code",
   "execution_count": 47,
   "metadata": {},
   "outputs": [
    {
     "name": "stdout",
     "output_type": "stream",
     "text": [
      "+------+--------+----------+-------------+\n",
      "|emp_id|emp_name|      city|        state|\n",
      "+------+--------+----------+-------------+\n",
      "|    31|Abhishek|New Mumbai|  Maharashtra|\n",
      "|     8|  Sundar|     Noida|Uttar Pradesh|\n",
      "|    27|   Ankit|      Pune|  Maharashtra|\n",
      "|    30|    Emma|     Delhi|        Delhi|\n",
      "|     7| Natasha| Hyderabad|Andra Pradesh|\n",
      "|    19|Scarlett| Hyderabad|Andra Pradesh|\n",
      "|     6|  Barton|      Pune|  Maharashtra|\n",
      "|    13|   Rahul|     Noida|Uttar Pradesh|\n",
      "|     5|   Berry|   Chennai|    Tamilnadu|\n",
      "|    16|  Vikash|    Nagpur|  Maharashtra|\n",
      "|    17| Aravind|   Chennai|    Tamilnadu|\n",
      "|    25|    Iris|    Mumbai|  Maharashtra|\n",
      "|    29|   Harry|     Noida|Uttar Pradesh|\n",
      "|    15|  Vishal|New Mumbai|  Maharashtra|\n",
      "|    11|   Krish|    Nagpur|  Maharashtra|\n",
      "|    24| Susmita| Hyderabad|Andra Pradesh|\n",
      "|     4| Stephen|    Mumbai|  Maharashtra|\n",
      "|     2|  Avnish| Bengalore|    Karnataka|\n",
      "|    18|    Adam|      Pune|  Maharashtra|\n",
      "|    23|    Amit|    Nagpur|  Maharashtra|\n",
      "+------+--------+----------+-------------+\n",
      "only showing top 20 rows\n",
      "\n"
     ]
    }
   ],
   "source": [
    "df.show()"
   ]
  },
  {
   "cell_type": "code",
   "execution_count": 48,
   "metadata": {},
   "outputs": [
    {
     "data": {
      "text/plain": [
       "180"
      ]
     },
     "execution_count": 48,
     "metadata": {},
     "output_type": "execute_result"
    }
   ],
   "source": [
    "df.count()"
   ]
  },
  {
   "cell_type": "code",
   "execution_count": 75,
   "metadata": {},
   "outputs": [],
   "source": [
    "df = df.select(\"key\",encode(col(\"value\"),charset=\"UTF-8\").alias(\"value\"))"
   ]
  },
  {
   "cell_type": "code",
   "execution_count": 76,
   "metadata": {},
   "outputs": [
    {
     "name": "stdout",
     "output_type": "stream",
     "text": [
      "+---+--------------------+\n",
      "|key|               value|\n",
      "+---+--------------------+\n",
      "| 31|[7B 22 65 6D 70 5...|\n",
      "|  8|[7B 22 65 6D 70 5...|\n",
      "| 27|[7B 22 65 6D 70 5...|\n",
      "| 30|[7B 22 65 6D 70 5...|\n",
      "|  7|[7B 22 65 6D 70 5...|\n",
      "| 19|[7B 22 65 6D 70 5...|\n",
      "|  6|[7B 22 65 6D 70 5...|\n",
      "| 13|[7B 22 65 6D 70 5...|\n",
      "|  5|[7B 22 65 6D 70 5...|\n",
      "| 16|[7B 22 65 6D 70 5...|\n",
      "| 17|[7B 22 65 6D 70 5...|\n",
      "| 25|[7B 22 65 6D 70 5...|\n",
      "| 29|[7B 22 65 6D 70 5...|\n",
      "| 15|[7B 22 65 6D 70 5...|\n",
      "| 11|[7B 22 65 6D 70 5...|\n",
      "| 24|[7B 22 65 6D 70 5...|\n",
      "|  4|[7B 22 65 6D 70 5...|\n",
      "|  2|[7B 22 65 6D 70 5...|\n",
      "| 18|[7B 22 65 6D 70 5...|\n",
      "| 23|[7B 22 65 6D 70 5...|\n",
      "+---+--------------------+\n",
      "only showing top 20 rows\n",
      "\n"
     ]
    }
   ],
   "source": [
    "df.show()"
   ]
  },
  {
   "cell_type": "code",
   "execution_count": 80,
   "metadata": {},
   "outputs": [],
   "source": [
    "\n",
    "schema = StructType(fields=[\n",
    "\n",
    "StructField(name=\"emp_id\",dataType=IntegerType()),\n",
    "StructField(name=\"emp_name\",dataType=StringType()),\n",
    "StructField(name=\"city\",dataType=StringType()),\n",
    "StructField(name=\"state\",dataType=StringType()),\n",
    "])"
   ]
  },
  {
   "cell_type": "code",
   "execution_count": 84,
   "metadata": {},
   "outputs": [
    {
     "name": "stdout",
     "output_type": "stream",
     "text": [
      "+------+--------+----------+-------------+\n",
      "|emp_id|emp_name|city      |state        |\n",
      "+------+--------+----------+-------------+\n",
      "|31    |Abhishek|New Mumbai|Maharashtra  |\n",
      "|8     |Sundar  |Noida     |Uttar Pradesh|\n",
      "|27    |Ankit   |Pune      |Maharashtra  |\n",
      "|30    |Emma    |Delhi     |Delhi        |\n",
      "|7     |Natasha |Hyderabad |Andra Pradesh|\n",
      "|19    |Scarlett|Hyderabad |Andra Pradesh|\n",
      "|6     |Barton  |Pune      |Maharashtra  |\n",
      "|13    |Rahul   |Noida     |Uttar Pradesh|\n",
      "|5     |Berry   |Chennai   |Tamilnadu    |\n",
      "|16    |Vikash  |Nagpur    |Maharashtra  |\n",
      "|17    |Aravind |Chennai   |Tamilnadu    |\n",
      "|25    |Iris    |Mumbai    |Maharashtra  |\n",
      "|29    |Harry   |Noida     |Uttar Pradesh|\n",
      "|15    |Vishal  |New Mumbai|Maharashtra  |\n",
      "|11    |Krish   |Nagpur    |Maharashtra  |\n",
      "|24    |Susmita |Hyderabad |Andra Pradesh|\n",
      "|4     |Stephen |Mumbai    |Maharashtra  |\n",
      "|2     |Avnish  |Bengalore |Karnataka    |\n",
      "|18    |Adam    |Pune      |Maharashtra  |\n",
      "|23    |Amit    |Nagpur    |Maharashtra  |\n",
      "+------+--------+----------+-------------+\n",
      "only showing top 20 rows\n",
      "\n"
     ]
    }
   ],
   "source": [
    "df.select(from_json(decode(col(\"value\"),charset=\"UTF-8\"),schema=schema).alias(\"value\")).select(\"value.*\").show(truncate=False)"
   ]
  },
  {
   "cell_type": "code",
   "execution_count": null,
   "metadata": {},
   "outputs": [],
   "source": [
    "(df.withColumn(\"value\",\n",
    "        from_json(decode(\"value\",charset=\"UTF-8\"),schema=schema)\n",
    "        .alias(\"value\"))\n",
    "        .select(\"value.*\")\n",
    "    )"
   ]
  }
 ],
 "metadata": {
  "kernelspec": {
   "display_name": "Python 3 (ipykernel)",
   "language": "python",
   "name": "python3"
  },
  "language_info": {
   "codemirror_mode": {
    "name": "ipython",
    "version": 3
   },
   "file_extension": ".py",
   "mimetype": "text/x-python",
   "name": "python",
   "nbconvert_exporter": "python",
   "pygments_lexer": "ipython3",
   "version": "3.8.10"
  },
  "orig_nbformat": 4,
  "vscode": {
   "interpreter": {
    "hash": "916dbcbb3f70747c44a77c7bcd40155683ae19c65e1c03b4aa3499c5328201f1"
   }
  }
 },
 "nbformat": 4,
 "nbformat_minor": 2
}
